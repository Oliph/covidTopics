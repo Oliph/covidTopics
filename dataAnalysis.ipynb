{
 "cells": [
  {
   "cell_type": "code",
   "execution_count": 1,
   "metadata": {},
   "outputs": [
    {
     "name": "stdout",
     "output_type": "stream",
     "text": [
      "Requirement already satisfied: numpy in ./venv/lib/python3.8/site-packages (1.18.3)\n",
      "Requirement already satisfied: pandas in ./venv/lib/python3.8/site-packages (1.0.3)\n",
      "Requirement already satisfied: numpy>=1.13.3 in ./venv/lib/python3.8/site-packages (from pandas) (1.18.3)\n",
      "Requirement already satisfied: pytz>=2017.2 in ./venv/lib/python3.8/site-packages (from pandas) (2019.3)\n",
      "Requirement already satisfied: python-dateutil>=2.6.1 in ./venv/lib/python3.8/site-packages (from pandas) (2.8.1)\n",
      "Requirement already satisfied: six>=1.5 in ./venv/lib/python3.8/site-packages (from python-dateutil>=2.6.1->pandas) (1.14.0)\n",
      "Requirement already satisfied: matplotlib in ./venv/lib/python3.8/site-packages (3.2.1)\n",
      "Requirement already satisfied: numpy>=1.11 in ./venv/lib/python3.8/site-packages (from matplotlib) (1.18.3)\n",
      "Requirement already satisfied: python-dateutil>=2.1 in ./venv/lib/python3.8/site-packages (from matplotlib) (2.8.1)\n",
      "Requirement already satisfied: cycler>=0.10 in ./venv/lib/python3.8/site-packages (from matplotlib) (0.10.0)\n",
      "Requirement already satisfied: kiwisolver>=1.0.1 in ./venv/lib/python3.8/site-packages (from matplotlib) (1.2.0)\n",
      "Requirement already satisfied: pyparsing!=2.0.4,!=2.1.2,!=2.1.6,>=2.0.1 in ./venv/lib/python3.8/site-packages (from matplotlib) (2.4.7)\n",
      "Requirement already satisfied: six>=1.5 in ./venv/lib/python3.8/site-packages (from python-dateutil>=2.1->matplotlib) (1.14.0)\n",
      "Requirement already satisfied: seaborn in ./venv/lib/python3.8/site-packages (0.10.1)\n",
      "Requirement already satisfied: numpy>=1.13.3 in ./venv/lib/python3.8/site-packages (from seaborn) (1.18.3)\n",
      "Requirement already satisfied: pandas>=0.22.0 in ./venv/lib/python3.8/site-packages (from seaborn) (1.0.3)\n",
      "Requirement already satisfied: scipy>=1.0.1 in ./venv/lib/python3.8/site-packages (from seaborn) (1.4.1)\n",
      "Requirement already satisfied: matplotlib>=2.1.2 in ./venv/lib/python3.8/site-packages (from seaborn) (3.2.1)\n",
      "Requirement already satisfied: pytz>=2017.2 in ./venv/lib/python3.8/site-packages (from pandas>=0.22.0->seaborn) (2019.3)\n",
      "Requirement already satisfied: python-dateutil>=2.6.1 in ./venv/lib/python3.8/site-packages (from pandas>=0.22.0->seaborn) (2.8.1)\n",
      "Requirement already satisfied: cycler>=0.10 in ./venv/lib/python3.8/site-packages (from matplotlib>=2.1.2->seaborn) (0.10.0)\n",
      "Requirement already satisfied: pyparsing!=2.0.4,!=2.1.2,!=2.1.6,>=2.0.1 in ./venv/lib/python3.8/site-packages (from matplotlib>=2.1.2->seaborn) (2.4.7)\n",
      "Requirement already satisfied: kiwisolver>=1.0.1 in ./venv/lib/python3.8/site-packages (from matplotlib>=2.1.2->seaborn) (1.2.0)\n",
      "Requirement already satisfied: six>=1.5 in ./venv/lib/python3.8/site-packages (from python-dateutil>=2.6.1->pandas>=0.22.0->seaborn) (1.14.0)\n",
      "Requirement already satisfied: sklearn in ./venv/lib/python3.8/site-packages (0.0)\n",
      "Requirement already satisfied: scikit-learn in ./venv/lib/python3.8/site-packages (from sklearn) (0.22.2.post1)\n",
      "Requirement already satisfied: joblib>=0.11 in ./venv/lib/python3.8/site-packages (from scikit-learn->sklearn) (0.14.1)\n",
      "Requirement already satisfied: scipy>=0.17.0 in ./venv/lib/python3.8/site-packages (from scikit-learn->sklearn) (1.4.1)\n",
      "Requirement already satisfied: numpy>=1.11.0 in ./venv/lib/python3.8/site-packages (from scikit-learn->sklearn) (1.18.3)\n",
      "Requirement already satisfied: torch in ./venv/lib/python3.8/site-packages (1.5.0)\n",
      "Requirement already satisfied: future in ./venv/lib/python3.8/site-packages (from torch) (0.18.2)\n",
      "Requirement already satisfied: numpy in ./venv/lib/python3.8/site-packages (from torch) (1.18.3)\n",
      "Requirement already satisfied: nltk in ./venv/lib/python3.8/site-packages (3.5)\n",
      "Requirement already satisfied: regex in ./venv/lib/python3.8/site-packages (from nltk) (2020.4.4)\n",
      "Requirement already satisfied: tqdm in ./venv/lib/python3.8/site-packages (from nltk) (4.45.0)\n",
      "Requirement already satisfied: click in ./venv/lib/python3.8/site-packages (from nltk) (7.1.1)\n",
      "Requirement already satisfied: joblib in ./venv/lib/python3.8/site-packages (from nltk) (0.14.1)\n",
      "Requirement already satisfied: gensim in ./venv/lib/python3.8/site-packages (3.8.2)\n",
      "Requirement already satisfied: numpy>=1.11.3 in ./venv/lib/python3.8/site-packages (from gensim) (1.18.3)\n",
      "Requirement already satisfied: smart-open>=1.8.1 in ./venv/lib/python3.8/site-packages (from gensim) (1.11.1)\n",
      "Requirement already satisfied: six>=1.5.0 in ./venv/lib/python3.8/site-packages (from gensim) (1.14.0)\n",
      "Requirement already satisfied: scipy>=1.0.0 in ./venv/lib/python3.8/site-packages (from gensim) (1.4.1)\n",
      "Requirement already satisfied: requests in ./venv/lib/python3.8/site-packages (from smart-open>=1.8.1->gensim) (2.23.0)\n",
      "Requirement already satisfied: boto in ./venv/lib/python3.8/site-packages (from smart-open>=1.8.1->gensim) (2.49.0)\n",
      "Requirement already satisfied: boto3 in ./venv/lib/python3.8/site-packages (from smart-open>=1.8.1->gensim) (1.12.46)\n",
      "Requirement already satisfied: urllib3!=1.25.0,!=1.25.1,<1.26,>=1.21.1 in ./venv/lib/python3.8/site-packages (from requests->smart-open>=1.8.1->gensim) (1.25.9)\n",
      "Requirement already satisfied: idna<3,>=2.5 in ./venv/lib/python3.8/site-packages (from requests->smart-open>=1.8.1->gensim) (2.9)\n",
      "Requirement already satisfied: chardet<4,>=3.0.2 in ./venv/lib/python3.8/site-packages (from requests->smart-open>=1.8.1->gensim) (3.0.4)\n",
      "Requirement already satisfied: certifi>=2017.4.17 in ./venv/lib/python3.8/site-packages (from requests->smart-open>=1.8.1->gensim) (2020.4.5.1)\n",
      "Requirement already satisfied: jmespath<1.0.0,>=0.7.1 in ./venv/lib/python3.8/site-packages (from boto3->smart-open>=1.8.1->gensim) (0.9.5)\n",
      "Requirement already satisfied: s3transfer<0.4.0,>=0.3.0 in ./venv/lib/python3.8/site-packages (from boto3->smart-open>=1.8.1->gensim) (0.3.3)\n",
      "Requirement already satisfied: botocore<1.16.0,>=1.15.46 in ./venv/lib/python3.8/site-packages (from boto3->smart-open>=1.8.1->gensim) (1.15.46)\n",
      "Requirement already satisfied: docutils<0.16,>=0.10 in ./venv/lib/python3.8/site-packages (from botocore<1.16.0,>=1.15.46->boto3->smart-open>=1.8.1->gensim) (0.15.2)\n",
      "Requirement already satisfied: python-dateutil<3.0.0,>=2.1 in ./venv/lib/python3.8/site-packages (from botocore<1.16.0,>=1.15.46->boto3->smart-open>=1.8.1->gensim) (2.8.1)\n",
      "Requirement already satisfied: tqdm in ./venv/lib/python3.8/site-packages (4.45.0)\n",
      "Requirement already satisfied: fasttext in ./venv/lib/python3.8/site-packages (0.9.1)\n",
      "Requirement already satisfied: numpy in ./venv/lib/python3.8/site-packages (from fasttext) (1.18.3)\n",
      "Requirement already satisfied: setuptools>=0.7.0 in ./venv/lib/python3.8/site-packages (from fasttext) (46.1.3)\n",
      "Requirement already satisfied: pybind11>=2.2 in ./venv/lib/python3.8/site-packages (from fasttext) (2.5.0)\n",
      "Requirement already satisfied: pyLDAvis in ./venv/lib/python3.8/site-packages (2.1.2)\n",
      "Requirement already satisfied: funcy in ./venv/lib/python3.8/site-packages (from pyLDAvis) (1.14)\n",
      "Requirement already satisfied: numpy>=1.9.2 in ./venv/lib/python3.8/site-packages (from pyLDAvis) (1.18.3)\n",
      "Requirement already satisfied: future in ./venv/lib/python3.8/site-packages (from pyLDAvis) (0.18.2)\n",
      "Requirement already satisfied: numexpr in ./venv/lib/python3.8/site-packages (from pyLDAvis) (2.7.1)\n",
      "Requirement already satisfied: scipy>=0.18.0 in ./venv/lib/python3.8/site-packages (from pyLDAvis) (1.4.1)\n",
      "Requirement already satisfied: joblib>=0.8.4 in ./venv/lib/python3.8/site-packages (from pyLDAvis) (0.14.1)\n",
      "Requirement already satisfied: wheel>=0.23.0 in ./venv/lib/python3.8/site-packages (from pyLDAvis) (0.34.2)\n",
      "Requirement already satisfied: pandas>=0.17.0 in ./venv/lib/python3.8/site-packages (from pyLDAvis) (1.0.3)\n",
      "Requirement already satisfied: pytest in ./venv/lib/python3.8/site-packages (from pyLDAvis) (5.4.1)\n",
      "Requirement already satisfied: jinja2>=2.7.2 in ./venv/lib/python3.8/site-packages (from pyLDAvis) (2.11.2)\n",
      "Requirement already satisfied: pytz>=2017.2 in ./venv/lib/python3.8/site-packages (from pandas>=0.17.0->pyLDAvis) (2019.3)\n",
      "Requirement already satisfied: python-dateutil>=2.6.1 in ./venv/lib/python3.8/site-packages (from pandas>=0.17.0->pyLDAvis) (2.8.1)\n",
      "Requirement already satisfied: more-itertools>=4.0.0 in ./venv/lib/python3.8/site-packages (from pytest->pyLDAvis) (8.2.0)\n",
      "Requirement already satisfied: attrs>=17.4.0 in ./venv/lib/python3.8/site-packages (from pytest->pyLDAvis) (19.3.0)\n",
      "Requirement already satisfied: wcwidth in ./venv/lib/python3.8/site-packages (from pytest->pyLDAvis) (0.1.9)\n",
      "Requirement already satisfied: packaging in ./venv/lib/python3.8/site-packages (from pytest->pyLDAvis) (20.3)\n",
      "Requirement already satisfied: pluggy<1.0,>=0.12 in ./venv/lib/python3.8/site-packages (from pytest->pyLDAvis) (0.13.1)\n",
      "Requirement already satisfied: py>=1.5.0 in ./venv/lib/python3.8/site-packages (from pytest->pyLDAvis) (1.8.1)\n"
     ]
    },
    {
     "name": "stdout",
     "output_type": "stream",
     "text": [
      "Requirement already satisfied: MarkupSafe>=0.23 in ./venv/lib/python3.8/site-packages (from jinja2>=2.7.2->pyLDAvis) (1.1.1)\n",
      "Requirement already satisfied: six>=1.5 in ./venv/lib/python3.8/site-packages (from python-dateutil>=2.6.1->pandas>=0.17.0->pyLDAvis) (1.14.0)\n",
      "Requirement already satisfied: pyparsing>=2.0.2 in ./venv/lib/python3.8/site-packages (from packaging->pytest->pyLDAvis) (2.4.7)\n",
      "Requirement already satisfied: bokeh in ./venv/lib/python3.8/site-packages (2.0.2)\n",
      "Requirement already satisfied: pillow>=4.0 in ./venv/lib/python3.8/site-packages (from bokeh) (7.1.2)\n",
      "Requirement already satisfied: packaging>=16.8 in ./venv/lib/python3.8/site-packages (from bokeh) (20.3)\n",
      "Requirement already satisfied: Jinja2>=2.7 in ./venv/lib/python3.8/site-packages (from bokeh) (2.11.2)\n",
      "Requirement already satisfied: tornado>=5 in ./venv/lib/python3.8/site-packages (from bokeh) (6.0.4)\n",
      "Requirement already satisfied: PyYAML>=3.10 in ./venv/lib/python3.8/site-packages (from bokeh) (5.3.1)\n",
      "Requirement already satisfied: numpy>=1.11.3 in ./venv/lib/python3.8/site-packages (from bokeh) (1.18.3)\n",
      "Requirement already satisfied: python-dateutil>=2.1 in ./venv/lib/python3.8/site-packages (from bokeh) (2.8.1)\n",
      "Requirement already satisfied: typing-extensions>=3.7.4 in ./venv/lib/python3.8/site-packages (from bokeh) (3.7.4.2)\n",
      "Requirement already satisfied: six in ./venv/lib/python3.8/site-packages (from packaging>=16.8->bokeh) (1.14.0)\n",
      "Requirement already satisfied: pyparsing>=2.0.2 in ./venv/lib/python3.8/site-packages (from packaging>=16.8->bokeh) (2.4.7)\n",
      "Requirement already satisfied: MarkupSafe>=0.23 in ./venv/lib/python3.8/site-packages (from Jinja2>=2.7->bokeh) (1.1.1)\n",
      "Requirement already satisfied: wordcloud in ./venv/lib/python3.8/site-packages (1.6.0)\n",
      "Requirement already satisfied: matplotlib in ./venv/lib/python3.8/site-packages (from wordcloud) (3.2.1)\n",
      "Requirement already satisfied: numpy>=1.6.1 in ./venv/lib/python3.8/site-packages (from wordcloud) (1.18.3)\n",
      "Requirement already satisfied: pillow in ./venv/lib/python3.8/site-packages (from wordcloud) (7.1.2)\n",
      "Requirement already satisfied: kiwisolver>=1.0.1 in ./venv/lib/python3.8/site-packages (from matplotlib->wordcloud) (1.2.0)\n",
      "Requirement already satisfied: cycler>=0.10 in ./venv/lib/python3.8/site-packages (from matplotlib->wordcloud) (0.10.0)\n",
      "Requirement already satisfied: python-dateutil>=2.1 in ./venv/lib/python3.8/site-packages (from matplotlib->wordcloud) (2.8.1)\n",
      "Requirement already satisfied: pyparsing!=2.0.4,!=2.1.2,!=2.1.6,>=2.0.1 in ./venv/lib/python3.8/site-packages (from matplotlib->wordcloud) (2.4.7)\n",
      "Requirement already satisfied: six in ./venv/lib/python3.8/site-packages (from cycler>=0.10->matplotlib->wordcloud) (1.14.0)\n",
      "Requirement already satisfied: spacy in ./venv/lib/python3.8/site-packages (2.2.4)\n",
      "Requirement already satisfied: requests<3.0.0,>=2.13.0 in ./venv/lib/python3.8/site-packages (from spacy) (2.23.0)\n",
      "Requirement already satisfied: thinc==7.4.0 in ./venv/lib/python3.8/site-packages (from spacy) (7.4.0)\n",
      "Requirement already satisfied: catalogue<1.1.0,>=0.0.7 in ./venv/lib/python3.8/site-packages (from spacy) (1.0.0)\n",
      "Requirement already satisfied: wasabi<1.1.0,>=0.4.0 in ./venv/lib/python3.8/site-packages (from spacy) (0.6.0)\n",
      "Requirement already satisfied: srsly<1.1.0,>=1.0.2 in ./venv/lib/python3.8/site-packages (from spacy) (1.0.2)\n",
      "Requirement already satisfied: numpy>=1.15.0 in ./venv/lib/python3.8/site-packages (from spacy) (1.18.3)\n",
      "Requirement already satisfied: preshed<3.1.0,>=3.0.2 in ./venv/lib/python3.8/site-packages (from spacy) (3.0.2)\n",
      "Requirement already satisfied: tqdm<5.0.0,>=4.38.0 in ./venv/lib/python3.8/site-packages (from spacy) (4.45.0)\n",
      "Requirement already satisfied: plac<1.2.0,>=0.9.6 in ./venv/lib/python3.8/site-packages (from spacy) (1.1.3)\n",
      "Requirement already satisfied: blis<0.5.0,>=0.4.0 in ./venv/lib/python3.8/site-packages (from spacy) (0.4.1)\n",
      "Requirement already satisfied: cymem<2.1.0,>=2.0.2 in ./venv/lib/python3.8/site-packages (from spacy) (2.0.3)\n",
      "Requirement already satisfied: setuptools in ./venv/lib/python3.8/site-packages (from spacy) (46.1.3)\n",
      "Requirement already satisfied: murmurhash<1.1.0,>=0.28.0 in ./venv/lib/python3.8/site-packages (from spacy) (1.0.2)\n",
      "Requirement already satisfied: chardet<4,>=3.0.2 in ./venv/lib/python3.8/site-packages (from requests<3.0.0,>=2.13.0->spacy) (3.0.4)\n",
      "Requirement already satisfied: urllib3!=1.25.0,!=1.25.1,<1.26,>=1.21.1 in ./venv/lib/python3.8/site-packages (from requests<3.0.0,>=2.13.0->spacy) (1.25.9)\n",
      "Requirement already satisfied: idna<3,>=2.5 in ./venv/lib/python3.8/site-packages (from requests<3.0.0,>=2.13.0->spacy) (2.9)\n",
      "Requirement already satisfied: certifi>=2017.4.17 in ./venv/lib/python3.8/site-packages (from requests<3.0.0,>=2.13.0->spacy) (2020.4.5.1)\n",
      "Requirement already satisfied: ipywidgets in ./venv/lib/python3.8/site-packages (7.5.1)\n",
      "Requirement already satisfied: ipython>=4.0.0; python_version >= \"3.3\" in ./venv/lib/python3.8/site-packages (from ipywidgets) (7.13.0)\n",
      "Requirement already satisfied: traitlets>=4.3.1 in ./venv/lib/python3.8/site-packages (from ipywidgets) (4.3.3)\n",
      "Requirement already satisfied: widgetsnbextension~=3.5.0 in ./venv/lib/python3.8/site-packages (from ipywidgets) (3.5.1)\n",
      "Requirement already satisfied: nbformat>=4.2.0 in ./venv/lib/python3.8/site-packages (from ipywidgets) (5.0.6)\n",
      "Requirement already satisfied: ipykernel>=4.5.1 in ./venv/lib/python3.8/site-packages (from ipywidgets) (5.2.1)\n",
      "Requirement already satisfied: backcall in ./venv/lib/python3.8/site-packages (from ipython>=4.0.0; python_version >= \"3.3\"->ipywidgets) (0.1.0)\n",
      "Requirement already satisfied: prompt-toolkit!=3.0.0,!=3.0.1,<3.1.0,>=2.0.0 in ./venv/lib/python3.8/site-packages (from ipython>=4.0.0; python_version >= \"3.3\"->ipywidgets) (3.0.5)\n",
      "Requirement already satisfied: pickleshare in ./venv/lib/python3.8/site-packages (from ipython>=4.0.0; python_version >= \"3.3\"->ipywidgets) (0.7.5)\n",
      "Requirement already satisfied: decorator in ./venv/lib/python3.8/site-packages (from ipython>=4.0.0; python_version >= \"3.3\"->ipywidgets) (4.4.2)\n",
      "Requirement already satisfied: pygments in ./venv/lib/python3.8/site-packages (from ipython>=4.0.0; python_version >= \"3.3\"->ipywidgets) (2.6.1)\n",
      "Requirement already satisfied: jedi>=0.10 in ./venv/lib/python3.8/site-packages (from ipython>=4.0.0; python_version >= \"3.3\"->ipywidgets) (0.17.0)\n",
      "Requirement already satisfied: pexpect; sys_platform != \"win32\" in ./venv/lib/python3.8/site-packages (from ipython>=4.0.0; python_version >= \"3.3\"->ipywidgets) (4.8.0)\n",
      "Requirement already satisfied: setuptools>=18.5 in ./venv/lib/python3.8/site-packages (from ipython>=4.0.0; python_version >= \"3.3\"->ipywidgets) (46.1.3)\n",
      "Requirement already satisfied: six in ./venv/lib/python3.8/site-packages (from traitlets>=4.3.1->ipywidgets) (1.14.0)\n",
      "Requirement already satisfied: ipython-genutils in ./venv/lib/python3.8/site-packages (from traitlets>=4.3.1->ipywidgets) (0.2.0)\n",
      "Requirement already satisfied: notebook>=4.4.1 in ./venv/lib/python3.8/site-packages (from widgetsnbextension~=3.5.0->ipywidgets) (6.0.3)\n",
      "Requirement already satisfied: jsonschema!=2.5.0,>=2.4 in ./venv/lib/python3.8/site-packages (from nbformat>=4.2.0->ipywidgets) (3.2.0)\n",
      "Requirement already satisfied: jupyter-core in ./venv/lib/python3.8/site-packages (from nbformat>=4.2.0->ipywidgets) (4.6.3)\n",
      "Requirement already satisfied: tornado>=4.2 in ./venv/lib/python3.8/site-packages (from ipykernel>=4.5.1->ipywidgets) (6.0.4)\n",
      "Requirement already satisfied: jupyter-client in ./venv/lib/python3.8/site-packages (from ipykernel>=4.5.1->ipywidgets) (6.1.3)\n",
      "Requirement already satisfied: wcwidth in ./venv/lib/python3.8/site-packages (from prompt-toolkit!=3.0.0,!=3.0.1,<3.1.0,>=2.0.0->ipython>=4.0.0; python_version >= \"3.3\"->ipywidgets) (0.1.9)\n",
      "Requirement already satisfied: parso>=0.7.0 in ./venv/lib/python3.8/site-packages (from jedi>=0.10->ipython>=4.0.0; python_version >= \"3.3\"->ipywidgets) (0.7.0)\n",
      "Requirement already satisfied: ptyprocess>=0.5 in ./venv/lib/python3.8/site-packages (from pexpect; sys_platform != \"win32\"->ipython>=4.0.0; python_version >= \"3.3\"->ipywidgets) (0.6.0)\n",
      "Requirement already satisfied: jinja2 in ./venv/lib/python3.8/site-packages (from notebook>=4.4.1->widgetsnbextension~=3.5.0->ipywidgets) (2.11.2)\n",
      "Requirement already satisfied: pyzmq>=17 in ./venv/lib/python3.8/site-packages (from notebook>=4.4.1->widgetsnbextension~=3.5.0->ipywidgets) (19.0.0)\n",
      "Requirement already satisfied: Send2Trash in ./venv/lib/python3.8/site-packages (from notebook>=4.4.1->widgetsnbextension~=3.5.0->ipywidgets) (1.5.0)\n",
      "Requirement already satisfied: terminado>=0.8.1 in ./venv/lib/python3.8/site-packages (from notebook>=4.4.1->widgetsnbextension~=3.5.0->ipywidgets) (0.8.3)\n",
      "Requirement already satisfied: nbconvert in ./venv/lib/python3.8/site-packages (from notebook>=4.4.1->widgetsnbextension~=3.5.0->ipywidgets) (5.6.1)\n"
     ]
    },
    {
     "name": "stdout",
     "output_type": "stream",
     "text": [
      "Requirement already satisfied: prometheus-client in ./venv/lib/python3.8/site-packages (from notebook>=4.4.1->widgetsnbextension~=3.5.0->ipywidgets) (0.7.1)\n",
      "Requirement already satisfied: pyrsistent>=0.14.0 in ./venv/lib/python3.8/site-packages (from jsonschema!=2.5.0,>=2.4->nbformat>=4.2.0->ipywidgets) (0.16.0)\n",
      "Requirement already satisfied: attrs>=17.4.0 in ./venv/lib/python3.8/site-packages (from jsonschema!=2.5.0,>=2.4->nbformat>=4.2.0->ipywidgets) (19.3.0)\n",
      "Requirement already satisfied: python-dateutil>=2.1 in ./venv/lib/python3.8/site-packages (from jupyter-client->ipykernel>=4.5.1->ipywidgets) (2.8.1)\n",
      "Requirement already satisfied: MarkupSafe>=0.23 in ./venv/lib/python3.8/site-packages (from jinja2->notebook>=4.4.1->widgetsnbextension~=3.5.0->ipywidgets) (1.1.1)\n",
      "Requirement already satisfied: mistune<2,>=0.8.1 in ./venv/lib/python3.8/site-packages (from nbconvert->notebook>=4.4.1->widgetsnbextension~=3.5.0->ipywidgets) (0.8.4)\n",
      "Requirement already satisfied: pandocfilters>=1.4.1 in ./venv/lib/python3.8/site-packages (from nbconvert->notebook>=4.4.1->widgetsnbextension~=3.5.0->ipywidgets) (1.4.2)\n",
      "Requirement already satisfied: defusedxml in ./venv/lib/python3.8/site-packages (from nbconvert->notebook>=4.4.1->widgetsnbextension~=3.5.0->ipywidgets) (0.6.0)\n",
      "Requirement already satisfied: bleach in ./venv/lib/python3.8/site-packages (from nbconvert->notebook>=4.4.1->widgetsnbextension~=3.5.0->ipywidgets) (3.1.4)\n",
      "Requirement already satisfied: entrypoints>=0.2.2 in ./venv/lib/python3.8/site-packages (from nbconvert->notebook>=4.4.1->widgetsnbextension~=3.5.0->ipywidgets) (0.3)\n",
      "Requirement already satisfied: testpath in ./venv/lib/python3.8/site-packages (from nbconvert->notebook>=4.4.1->widgetsnbextension~=3.5.0->ipywidgets) (0.4.4)\n",
      "Requirement already satisfied: webencodings in ./venv/lib/python3.8/site-packages (from bleach->nbconvert->notebook>=4.4.1->widgetsnbextension~=3.5.0->ipywidgets) (0.5.1)\n"
     ]
    }
   ],
   "source": [
    "# Install all the missing libraries\n",
    "!pip install numpy\n",
    "!pip install pandas\n",
    "!pip install matplotlib\n",
    "!pip install seaborn\n",
    "!pip install sklearn\n",
    "!pip install torch\n",
    "!pip install nltk\n",
    "!pip install gensim\n",
    "!pip install tqdm\n",
    "!pip install fasttext\n",
    "!pip install pyLDAvis\n",
    "!pip install bokeh\n",
    "!pip install wordcloud\n",
    "!pip install spacy\n",
    "!pip install ipywidgets"
   ]
  },
  {
   "cell_type": "code",
   "execution_count": 2,
   "metadata": {},
   "outputs": [
    {
     "name": "stdout",
     "output_type": "stream",
     "text": [
      "Enabling notebook extension jupyter-js-widgets/extension...\r\n",
      "      - Validating: \u001b[32mOK\u001b[0m\r\n"
     ]
    }
   ],
   "source": [
    "!jupyter nbextension enable --py widgetsnbextension"
   ]
  },
  {
   "cell_type": "code",
   "execution_count": 3,
   "metadata": {},
   "outputs": [],
   "source": [
    "import os\n",
    "import re\n",
    "from tqdm.auto import tqdm\n",
    "import requests"
   ]
  },
  {
   "cell_type": "code",
   "execution_count": 4,
   "metadata": {},
   "outputs": [],
   "source": [
    "import numpy as np \n",
    "import pandas as pd \n",
    "import matplotlib as mp\n",
    "import matplotlib.pyplot as plt\n",
    "import seaborn as sns\n",
    "from sklearn.cluster import KMeans\n",
    "from sklearn.model_selection import GridSearchCV\n",
    "from sklearn.decomposition import LatentDirichletAllocation, TruncatedSVD"
   ]
  },
  {
   "cell_type": "code",
   "execution_count": 5,
   "metadata": {},
   "outputs": [],
   "source": [
    "%matplotlib inline\n",
    "pd.set_option('display.max_rows', 500)\n",
    "pd.set_option('display.max_columns', 500)\n",
    "pd.set_option('display.width', 1000)\n",
    "pd.options.display.max_colwidth = 100"
   ]
  },
  {
   "cell_type": "code",
   "execution_count": 6,
   "metadata": {},
   "outputs": [],
   "source": [
    "#from keras.preprocessing.text import Tokenizer\n",
    "from nltk.corpus import stopwords\n",
    "from nltk.tokenize import sent_tokenize\n",
    "from nltk.tokenize import RegexpTokenizer\n",
    "import spacy"
   ]
  },
  {
   "cell_type": "code",
   "execution_count": 7,
   "metadata": {},
   "outputs": [
    {
     "name": "stderr",
     "output_type": "stream",
     "text": [
      "unable to import 'smart_open.gcs', disabling that module\n"
     ]
    }
   ],
   "source": [
    "#from fasttext import fasttext\n",
    "from gensim.models.fasttext import FastText\n",
    "#from fasttext import util\n",
    "#util.download_model('es', if_exists='ignore')  # English\n",
    "#model = fasttext.load_model('./models/pretrained/fasttext/cc.es.300.bin') # Pass location of the downloaded bin file"
   ]
  },
  {
   "cell_type": "code",
   "execution_count": 8,
   "metadata": {},
   "outputs": [],
   "source": [
    "PRETRAINED_FASTTEXT_MODEL = './models/lid.176.bin'"
   ]
  },
  {
   "cell_type": "code",
   "execution_count": 9,
   "metadata": {},
   "outputs": [],
   "source": [
    "# Download pre-trained Fasttext model to us in language detection\n",
    "#!wget -O ./models/lid.176.bin https://dl.fbaipublicfiles.com/fasttext/supervised-models/lid.176.bin"
   ]
  },
  {
   "cell_type": "code",
   "execution_count": 10,
   "metadata": {},
   "outputs": [
    {
     "data": {
      "text/plain": [
       "(210713, 1)"
      ]
     },
     "execution_count": 10,
     "metadata": {},
     "output_type": "execute_result"
    }
   ],
   "source": [
    "# Load data\n",
    "df = pd.read_csv('./data/Tweets_Activity_Week5_VOX_All_Tweets_O_utf.txt', header=None)\n",
    "# Rename the column\n",
    "df.columns = ['original_txt']\n",
    "df.shape"
   ]
  },
  {
   "cell_type": "code",
   "execution_count": 11,
   "metadata": {},
   "outputs": [
    {
     "data": {
      "text/html": [
       "<div>\n",
       "<style scoped>\n",
       "    .dataframe tbody tr th:only-of-type {\n",
       "        vertical-align: middle;\n",
       "    }\n",
       "\n",
       "    .dataframe tbody tr th {\n",
       "        vertical-align: top;\n",
       "    }\n",
       "\n",
       "    .dataframe thead th {\n",
       "        text-align: right;\n",
       "    }\n",
       "</style>\n",
       "<table border=\"1\" class=\"dataframe\">\n",
       "  <thead>\n",
       "    <tr style=\"text-align: right;\">\n",
       "      <th></th>\n",
       "      <th>original_txt</th>\n",
       "    </tr>\n",
       "  </thead>\n",
       "  <tbody>\n",
       "    <tr>\n",
       "      <th>0</th>\n",
       "      <td>@anguestar @ecd_ Son peligrosos que no es lo mismo.</td>\n",
       "    </tr>\n",
       "    <tr>\n",
       "      <th>1</th>\n",
       "      <td>No lo hace el PP lo hacéis vosotros solitos. https://t.co/BSR9ht52CV</td>\n",
       "    </tr>\n",
       "    <tr>\n",
       "      <th>2</th>\n",
       "      <td>@ecd_ No lo hace el PP, lo hacéis vosotros solitos.</td>\n",
       "    </tr>\n",
       "    <tr>\n",
       "      <th>3</th>\n",
       "      <td>La historia se repite.  Socialismo+comunismo+ nacionalismo. https://t.co/l4xKV2zpXq</td>\n",
       "    </tr>\n",
       "    <tr>\n",
       "      <th>4</th>\n",
       "      <td>@okdiario Si claro. Eso dicen en Cuba también.</td>\n",
       "    </tr>\n",
       "    <tr>\n",
       "      <th>5</th>\n",
       "      <td>@okdiario Si lo vimos ayer. Son unos jetas.</td>\n",
       "    </tr>\n",
       "    <tr>\n",
       "      <th>6</th>\n",
       "      <td>@okdiario Pero en esa foto va maquillada y de nota un huevo además... ?¿</td>\n",
       "    </tr>\n",
       "    <tr>\n",
       "      <th>7</th>\n",
       "      <td>@okdiario Normal.   ??Yo como ciudadana también.</td>\n",
       "    </tr>\n",
       "    <tr>\n",
       "      <th>8</th>\n",
       "      <td>@okdiario Estados unidos tiene 328 millones de habitantes.</td>\n",
       "    </tr>\n",
       "    <tr>\n",
       "      <th>9</th>\n",
       "      <td>@okdiario A buenas horas. Que se piren.</td>\n",
       "    </tr>\n",
       "  </tbody>\n",
       "</table>\n",
       "</div>"
      ],
      "text/plain": [
       "                                                                          original_txt\n",
       "0                                  @anguestar @ecd_ Son peligrosos que no es lo mismo.\n",
       "1                 No lo hace el PP lo hacéis vosotros solitos. https://t.co/BSR9ht52CV\n",
       "2                                  @ecd_ No lo hace el PP, lo hacéis vosotros solitos.\n",
       "3  La historia se repite.  Socialismo+comunismo+ nacionalismo. https://t.co/l4xKV2zpXq\n",
       "4                                       @okdiario Si claro. Eso dicen en Cuba también.\n",
       "5                                          @okdiario Si lo vimos ayer. Son unos jetas.\n",
       "6             @okdiario Pero en esa foto va maquillada y de nota un huevo además... ?¿\n",
       "7                                     @okdiario Normal.   ??Yo como ciudadana también.\n",
       "8                           @okdiario Estados unidos tiene 328 millones de habitantes.\n",
       "9                                              @okdiario A buenas horas. Que se piren."
      ]
     },
     "execution_count": 11,
     "metadata": {},
     "output_type": "execute_result"
    }
   ],
   "source": [
    "df.head(10)"
   ]
  },
  {
   "cell_type": "markdown",
   "metadata": {},
   "source": [
    "# Data preparation"
   ]
  },
  {
   "cell_type": "markdown",
   "metadata": {},
   "source": [
    "Before doing the analysis, we need to preprocess the text. \n",
    "First we will remove the URL, Mentions and hashtag symbol that are specific to Twitter but should not be part of the clustering.\n",
    "Second we will detect in which language the tweets are. We are only interested in Spanish tweets [INSERT REASON OTHER THAN - EASIER], therefore we have to exclude tweets that are not in Spanish. \n",
    "Doing it manually it is impossible, we rely on the fasstext library to detect languages and select the ones that we can be confident enough they are in Spanish.\n",
    "\n",
    "However, the specificity of Twitter is to be comprise of Hashtags, Mentions and URLs. These entities carry information but are not useful directly for the topic identification.\n",
    "We have to then remove the tweets that are only containing such entities without text to analyse. "
   ]
  },
  {
   "cell_type": "markdown",
   "metadata": {},
   "source": [
    "# Checking if tweets contains valuable text\n"
   ]
  },
  {
   "cell_type": "code",
   "execution_count": 12,
   "metadata": {},
   "outputs": [],
   "source": [
    "# Catch the mentions\n",
    "mention_re = re.compile(r'@([A-Za-z0-9_]+)')\n",
    "# Catch the hashtags\n",
    "hashtag_re = re.compile(r\"^#\\S+|\\s#\\S+\")\n",
    "# Catch any URL\n",
    "url_re = re.compile('http[s]?://(?:[a-zA-Z]|[0-9]|[$-_@.&+]|[!*\\(\\),]|(?:%[0-9a-fA-F][0-9a-fA-F]))+')\n",
    "#url_re = re.compile(r'(https?:\\/\\/)?([\\da-z\\.-]+)\\.([a-z\\.]{2,6})([\\/\\w\\.-]*)*\\/?\\S')\n",
    "\n",
    "# Catch the RT\n",
    "rt_re = re.compile('RT')"
   ]
  },
  {
   "cell_type": "code",
   "execution_count": 13,
   "metadata": {},
   "outputs": [],
   "source": [
    "# Need to check the URL to see the full one: \n",
    "def resolve_url(url):\n",
    "    try:\n",
    "        res = urllib2.urlopen(url)\n",
    "        print(res)\n",
    "        return res.geturl()\n",
    "    except:\n",
    "        return 'InvalidURL'"
   ]
  },
  {
   "cell_type": "code",
   "execution_count": 14,
   "metadata": {},
   "outputs": [],
   "source": [
    "def remove_entities(txt, compiled_regex, substitute=''):\n",
    "    \"\"\"\n",
    "    Replace mentions from the txt tweet and add them into a list to be able to keep them for later\n",
    "    \"\"\"\n",
    "    entities = compiled_regex.findall(txt)\n",
    "    txt = compiled_regex.sub(substitute, txt)\n",
    "    return txt, entities"
   ]
  },
  {
   "cell_type": "code",
   "execution_count": 15,
   "metadata": {},
   "outputs": [],
   "source": [
    "def preprocess_text(sentence):\n",
    "    mentions = None\n",
    "    urls = None\n",
    "    hashtags = None\n",
    "    try:\n",
    "        # lowering all words\n",
    "        sentence = sentence.lower()            \n",
    "        # Replace User mentions tags\n",
    "        sentence, mentions = remove_entities(sentence, mention_re, '__MENTION__')\n",
    "    \n",
    "        # Remove URL\n",
    "        sentence, urls = remove_entities(sentence, url_re, '__URL__')\n",
    "        # Resolve the urls\n",
    "        #urls = [resolve_url(url) for url in urls]\n",
    "        # Remove Hashtags\n",
    "        # We keep the hashtags as they can be normal words\n",
    "        #sentence = remove_entities(sentence, hashtag_re, '__HASHTAG__')\n",
    "        \n",
    "        hashtags = hashtag_re.findall(sentence)\n",
    "\n",
    "        sentence = sentence.replace('#', '')\n",
    "    \n",
    "        # Remove RT symbol\n",
    "        #sentence = remove_entities(sentence, rt_re, ' ')\n",
    "    \n",
    "        # Remove punctuations and numbers\n",
    "        sentence = re.sub('[^a-zA-Z]', ' ', sentence)\n",
    "\n",
    "        # Single character removal\n",
    "        sentence = re.sub(r\"\\s+[a-zA-Z]\\s+\", ' ', sentence)\n",
    "\n",
    "        # Removing multiple spaces\n",
    "        sentence = re.sub(r'\\s+', ' ', sentence)        \n",
    "    except Exception as e:\n",
    "        print(e)\n",
    "        print('Sentence: {} - Type {}'.format(sentence, type(sentence)))\n",
    "        raise\n",
    "    return sentence, mentions, urls, hashtags"
   ]
  },
  {
   "cell_type": "code",
   "execution_count": 16,
   "metadata": {},
   "outputs": [],
   "source": [
    "# Searching and replacing all mentions, urls and hashtags found but keep them in new columns\n",
    "#pd.DataFrame(df['original_txt'].apply(get_lang,args=(model.predict,)).tolist())\n",
    "\n",
    "df[['clean_txt', 'mentions', 'urls', 'hashtags']] = pd.DataFrame(df['original_txt'].apply(preprocess_text).tolist())\n",
    "\n",
    "\n",
    "#df[['clean_txt', 'mentions', 'urls', 'hashtags']] = df['original_txt'].apply(preprocess_text)"
   ]
  },
  {
   "cell_type": "code",
   "execution_count": 17,
   "metadata": {},
   "outputs": [],
   "source": [
    "df['clean_txt'] = df['clean_txt'].str.replace('MENTION', '').replace('URL', '').replace('HASHTAG', '')"
   ]
  },
  {
   "cell_type": "code",
   "execution_count": 18,
   "metadata": {},
   "outputs": [],
   "source": [
    "df['clean_word_count'] = df['clean_txt'].apply(lambda x: len(str(x).split(\" \")))"
   ]
  },
  {
   "cell_type": "code",
   "execution_count": 19,
   "metadata": {},
   "outputs": [],
   "source": [
    "# Removing all the entries that have a size less than 10 after cleaning text\n",
    "#df = df[df['word_count'] > 10]"
   ]
  },
  {
   "cell_type": "code",
   "execution_count": 20,
   "metadata": {},
   "outputs": [
    {
     "name": "stdout",
     "output_type": "stream",
     "text": [
      "Word Count Median: 11.0\n",
      "count    210713.000000\n",
      "mean         15.223351\n",
      "std          11.775141\n",
      "min           1.000000\n",
      "25%           6.000000\n",
      "50%          11.000000\n",
      "75%          21.000000\n",
      "max          92.000000\n",
      "Name: clean_word_count, dtype: float64\n"
     ]
    },
    {
     "data": {
      "image/png": "[encoded data removed]",
      "text/plain": [
       "<Figure size 432x288 with 1 Axes>"
      ]
     },
     "metadata": {
      "needs_background": "light"
     },
     "output_type": "display_data"
    }
   ],
   "source": [
    "print(\"Word Count Median: \" + str(df['clean_word_count'].median()))\n",
    "print(df['clean_word_count'].describe())\n",
    "x = df['clean_word_count']\n",
    "n_bins = 100\n",
    "plt.hist(x, bins=n_bins)\n",
    "plt.xlabel('Number of Words in Description')\n",
    "plt.ylabel('Frequency')\n",
    "plt.show()"
   ]
  },
  {
   "cell_type": "markdown",
   "metadata": {},
   "source": [
    "## Frequency count on the entities"
   ]
  },
  {
   "cell_type": "code",
   "execution_count": 21,
   "metadata": {},
   "outputs": [],
   "source": [
    "def flatten_list(entities):\n",
    "    return [item for sublist in entities for item in sublist]"
   ]
  },
  {
   "cell_type": "markdown",
   "metadata": {},
   "source": [
    "### Mentions\n",
    "Who are the most often mentioned accounts"
   ]
  },
  {
   "cell_type": "code",
   "execution_count": 22,
   "metadata": {},
   "outputs": [
    {
     "data": {
      "text/plain": [
       "count    63763.000000\n",
       "mean         4.051488\n",
       "std         28.200489\n",
       "min          1.000000\n",
       "25%          1.000000\n",
       "50%          1.000000\n",
       "75%          3.000000\n",
       "max       3203.000000\n",
       "dtype: float64"
      ]
     },
     "execution_count": 22,
     "metadata": {},
     "output_type": "execute_result"
    }
   ],
   "source": [
    "mentions = pd.Series(flatten_list(df['mentions']))\n",
    "\n",
    "mentions.value_counts().describe()"
   ]
  },
  {
   "cell_type": "code",
   "execution_count": 23,
   "metadata": {},
   "outputs": [
    {
     "data": {
      "image/png": "[encoded data removed]",
      "text/plain": [
       "<Figure size 1080x360 with 2 Axes>"
      ]
     },
     "metadata": {
      "needs_background": "light"
     },
     "output_type": "display_data"
    }
   ],
   "source": [
    "fig = plt.figure(figsize=(15,5))\n",
    "\n",
    "plt.title('Frequencies of mentions')\n",
    "\n",
    "plt.subplot(1, 2, 1)\n",
    "# Create bars\n",
    "mentions.value_counts().hist(bins=50)\n",
    "plt.subplot(1, 2, 2)\n",
    "mentions.value_counts().to_frame().boxplot(vert=False)\n",
    "\n",
    "plt.show()"
   ]
  },
  {
   "cell_type": "code",
   "execution_count": 24,
   "metadata": {},
   "outputs": [
    {
     "name": "stdout",
     "output_type": "stream",
     "text": [
      "Q1: 1.0 - Q25: 1.0 - Q75: 3.0 - Q99: 37.0\n"
     ]
    }
   ],
   "source": [
    "Q1 = np.percentile(mentions.value_counts(), 1, interpolation = 'midpoint') \n",
    "\n",
    "Q25 = np.percentile(mentions.value_counts(), 25, interpolation = 'midpoint') \n",
    "  \n",
    "Q75 = np.percentile(mentions.value_counts(), 75, interpolation = 'midpoint') \n",
    "\n",
    "Q99 = np.percentile(mentions.value_counts(), 99, interpolation = 'midpoint') \n",
    "  \n",
    "# Interquaritle range (IQR) \n",
    "IQR = Q75 - Q25\n",
    "  \n",
    "print(\"Q1: {} - Q25: {} - Q75: {} - Q99: {}\".format(Q1, Q25, Q75, Q99))"
   ]
  },
  {
   "cell_type": "code",
   "execution_count": 25,
   "metadata": {},
   "outputs": [],
   "source": [
    "df_mentions = mentions.value_counts().to_frame().reset_index()\n",
    "df_mentions.columns = [\"mentions\", 'count']"
   ]
  },
  {
   "cell_type": "code",
   "execution_count": 26,
   "metadata": {},
   "outputs": [
    {
     "data": {
      "text/html": [
       "<div>\n",
       "<style scoped>\n",
       "    .dataframe tbody tr th:only-of-type {\n",
       "        vertical-align: middle;\n",
       "    }\n",
       "\n",
       "    .dataframe tbody tr th {\n",
       "        vertical-align: top;\n",
       "    }\n",
       "\n",
       "    .dataframe thead th {\n",
       "        text-align: right;\n",
       "    }\n",
       "</style>\n",
       "<table border=\"1\" class=\"dataframe\">\n",
       "  <thead>\n",
       "    <tr style=\"text-align: right;\">\n",
       "      <th></th>\n",
       "      <th>mentions</th>\n",
       "      <th>count</th>\n",
       "    </tr>\n",
       "  </thead>\n",
       "  <tbody>\n",
       "    <tr>\n",
       "      <th>0</th>\n",
       "      <td>psoe</td>\n",
       "      <td>3203</td>\n",
       "    </tr>\n",
       "    <tr>\n",
       "      <th>1</th>\n",
       "      <td>sanchezcastejon</td>\n",
       "      <td>2273</td>\n",
       "    </tr>\n",
       "    <tr>\n",
       "      <th>2</th>\n",
       "      <td>vox_es</td>\n",
       "      <td>1862</td>\n",
       "    </tr>\n",
       "    <tr>\n",
       "      <th>3</th>\n",
       "      <td>pabloiglesias</td>\n",
       "      <td>1785</td>\n",
       "    </tr>\n",
       "    <tr>\n",
       "      <th>4</th>\n",
       "      <td>santi_abascal</td>\n",
       "      <td>1746</td>\n",
       "    </tr>\n",
       "    <tr>\n",
       "      <th>5</th>\n",
       "      <td>pnique</td>\n",
       "      <td>1583</td>\n",
       "    </tr>\n",
       "    <tr>\n",
       "      <th>6</th>\n",
       "      <td>guardiacivil</td>\n",
       "      <td>1242</td>\n",
       "    </tr>\n",
       "    <tr>\n",
       "      <th>7</th>\n",
       "      <td>podemos</td>\n",
       "      <td>1155</td>\n",
       "    </tr>\n",
       "    <tr>\n",
       "      <th>8</th>\n",
       "      <td>_anapastor_</td>\n",
       "      <td>1048</td>\n",
       "    </tr>\n",
       "    <tr>\n",
       "      <th>9</th>\n",
       "      <td>alvisepf</td>\n",
       "      <td>928</td>\n",
       "    </tr>\n",
       "    <tr>\n",
       "      <th>10</th>\n",
       "      <td>macarena_olona</td>\n",
       "      <td>878</td>\n",
       "    </tr>\n",
       "    <tr>\n",
       "      <th>11</th>\n",
       "      <td>newtral</td>\n",
       "      <td>873</td>\n",
       "    </tr>\n",
       "    <tr>\n",
       "      <th>12</th>\n",
       "      <td>pablocasado_</td>\n",
       "      <td>848</td>\n",
       "    </tr>\n",
       "    <tr>\n",
       "      <th>13</th>\n",
       "      <td>elmundoes</td>\n",
       "      <td>740</td>\n",
       "    </tr>\n",
       "    <tr>\n",
       "      <th>14</th>\n",
       "      <td>populares</td>\n",
       "      <td>725</td>\n",
       "    </tr>\n",
       "    <tr>\n",
       "      <th>15</th>\n",
       "      <td>carlesenric</td>\n",
       "      <td>711</td>\n",
       "    </tr>\n",
       "    <tr>\n",
       "      <th>16</th>\n",
       "      <td>agarzon</td>\n",
       "      <td>676</td>\n",
       "    </tr>\n",
       "    <tr>\n",
       "      <th>17</th>\n",
       "      <td>lasextatv</td>\n",
       "      <td>660</td>\n",
       "    </tr>\n",
       "    <tr>\n",
       "      <th>18</th>\n",
       "      <td>juanrallo</td>\n",
       "      <td>654</td>\n",
       "    </tr>\n",
       "    <tr>\n",
       "      <th>19</th>\n",
       "      <td>ldpsincomplejos</td>\n",
       "      <td>645</td>\n",
       "    </tr>\n",
       "    <tr>\n",
       "      <th>20</th>\n",
       "      <td>irenemontero</td>\n",
       "      <td>644</td>\n",
       "    </tr>\n",
       "    <tr>\n",
       "      <th>21</th>\n",
       "      <td>_inakilopez_</td>\n",
       "      <td>634</td>\n",
       "    </tr>\n",
       "    <tr>\n",
       "      <th>22</th>\n",
       "      <td>youtube</td>\n",
       "      <td>600</td>\n",
       "    </tr>\n",
       "    <tr>\n",
       "      <th>23</th>\n",
       "      <td>ivanedlm</td>\n",
       "      <td>597</td>\n",
       "    </tr>\n",
       "    <tr>\n",
       "      <th>24</th>\n",
       "      <td>girautaoficial</td>\n",
       "      <td>593</td>\n",
       "    </tr>\n",
       "    <tr>\n",
       "      <th>25</th>\n",
       "      <td>hermanntertsch</td>\n",
       "      <td>585</td>\n",
       "    </tr>\n",
       "    <tr>\n",
       "      <th>26</th>\n",
       "      <td>el_pais</td>\n",
       "      <td>554</td>\n",
       "    </tr>\n",
       "    <tr>\n",
       "      <th>27</th>\n",
       "      <td>abc_es</td>\n",
       "      <td>506</td>\n",
       "    </tr>\n",
       "    <tr>\n",
       "      <th>28</th>\n",
       "      <td>okdiario</td>\n",
       "      <td>482</td>\n",
       "    </tr>\n",
       "    <tr>\n",
       "      <th>29</th>\n",
       "      <td>ristomejide</td>\n",
       "      <td>463</td>\n",
       "    </tr>\n",
       "    <tr>\n",
       "      <th>30</th>\n",
       "      <td>idiazayuso</td>\n",
       "      <td>445</td>\n",
       "    </tr>\n",
       "    <tr>\n",
       "      <th>31</th>\n",
       "      <td>estadodalarmatv</td>\n",
       "      <td>441</td>\n",
       "    </tr>\n",
       "    <tr>\n",
       "      <th>32</th>\n",
       "      <td>javiernegre10</td>\n",
       "      <td>424</td>\n",
       "    </tr>\n",
       "    <tr>\n",
       "      <th>33</th>\n",
       "      <td>adrilastra</td>\n",
       "      <td>418</td>\n",
       "    </tr>\n",
       "    <tr>\n",
       "      <th>34</th>\n",
       "      <td>electo_mania</td>\n",
       "      <td>408</td>\n",
       "    </tr>\n",
       "    <tr>\n",
       "      <th>35</th>\n",
       "      <td>twitterespana</td>\n",
       "      <td>398</td>\n",
       "    </tr>\n",
       "    <tr>\n",
       "      <th>36</th>\n",
       "      <td>monederojc</td>\n",
       "      <td>394</td>\n",
       "    </tr>\n",
       "    <tr>\n",
       "      <th>37</th>\n",
       "      <td>navedelmisterio</td>\n",
       "      <td>393</td>\n",
       "    </tr>\n",
       "    <tr>\n",
       "      <th>38</th>\n",
       "      <td>europapress</td>\n",
       "      <td>391</td>\n",
       "    </tr>\n",
       "    <tr>\n",
       "      <th>39</th>\n",
       "      <td>debatalrojovivo</td>\n",
       "      <td>387</td>\n",
       "    </tr>\n",
       "    <tr>\n",
       "      <th>40</th>\n",
       "      <td>cristinasegui_</td>\n",
       "      <td>363</td>\n",
       "    </tr>\n",
       "    <tr>\n",
       "      <th>41</th>\n",
       "      <td>eldiarioes</td>\n",
       "      <td>356</td>\n",
       "    </tr>\n",
       "    <tr>\n",
       "      <th>42</th>\n",
       "      <td>rosadiezglez</td>\n",
       "      <td>349</td>\n",
       "    </tr>\n",
       "    <tr>\n",
       "      <th>43</th>\n",
       "      <td>rubensancheztw</td>\n",
       "      <td>348</td>\n",
       "    </tr>\n",
       "    <tr>\n",
       "      <th>44</th>\n",
       "      <td>juanfraescudero</td>\n",
       "      <td>347</td>\n",
       "    </tr>\n",
       "    <tr>\n",
       "      <th>45</th>\n",
       "      <td>wallstwolverine</td>\n",
       "      <td>344</td>\n",
       "    </tr>\n",
       "    <tr>\n",
       "      <th>46</th>\n",
       "      <td>policia</td>\n",
       "      <td>342</td>\n",
       "    </tr>\n",
       "    <tr>\n",
       "      <th>47</th>\n",
       "      <td>alfonso_ussia</td>\n",
       "      <td>334</td>\n",
       "    </tr>\n",
       "    <tr>\n",
       "      <th>48</th>\n",
       "      <td>xabierfortes</td>\n",
       "      <td>334</td>\n",
       "    </tr>\n",
       "    <tr>\n",
       "      <th>49</th>\n",
       "      <td>teogarciaegea</td>\n",
       "      <td>332</td>\n",
       "    </tr>\n",
       "  </tbody>\n",
       "</table>\n",
       "</div>"
      ],
      "text/plain": [
       "           mentions  count\n",
       "0              psoe   3203\n",
       "1   sanchezcastejon   2273\n",
       "2            vox_es   1862\n",
       "3     pabloiglesias   1785\n",
       "4     santi_abascal   1746\n",
       "5            pnique   1583\n",
       "6      guardiacivil   1242\n",
       "7           podemos   1155\n",
       "8       _anapastor_   1048\n",
       "9          alvisepf    928\n",
       "10   macarena_olona    878\n",
       "11          newtral    873\n",
       "12     pablocasado_    848\n",
       "13        elmundoes    740\n",
       "14        populares    725\n",
       "15      carlesenric    711\n",
       "16          agarzon    676\n",
       "17        lasextatv    660\n",
       "18        juanrallo    654\n",
       "19  ldpsincomplejos    645\n",
       "20     irenemontero    644\n",
       "21     _inakilopez_    634\n",
       "22          youtube    600\n",
       "23         ivanedlm    597\n",
       "24   girautaoficial    593\n",
       "25   hermanntertsch    585\n",
       "26          el_pais    554\n",
       "27           abc_es    506\n",
       "28         okdiario    482\n",
       "29      ristomejide    463\n",
       "30       idiazayuso    445\n",
       "31  estadodalarmatv    441\n",
       "32    javiernegre10    424\n",
       "33       adrilastra    418\n",
       "34     electo_mania    408\n",
       "35    twitterespana    398\n",
       "36       monederojc    394\n",
       "37  navedelmisterio    393\n",
       "38      europapress    391\n",
       "39  debatalrojovivo    387\n",
       "40   cristinasegui_    363\n",
       "41       eldiarioes    356\n",
       "42     rosadiezglez    349\n",
       "43   rubensancheztw    348\n",
       "44  juanfraescudero    347\n",
       "45  wallstwolverine    344\n",
       "46          policia    342\n",
       "47    alfonso_ussia    334\n",
       "48     xabierfortes    334\n",
       "49    teogarciaegea    332"
      ]
     },
     "execution_count": 26,
     "metadata": {},
     "output_type": "execute_result"
    }
   ],
   "source": [
    "df_mentions.head(50)"
   ]
  },
  {
   "cell_type": "code",
   "execution_count": 27,
   "metadata": {},
   "outputs": [
    {
     "data": {
      "image/png": "[encoded data removed]",
      "text/plain": [
       "<Figure size 1080x1080 with 1 Axes>"
      ]
     },
     "metadata": {
      "needs_background": "light"
     },
     "output_type": "display_data"
    }
   ],
   "source": [
    "x = df_mentions['mentions'].head(50)\n",
    "y = df_mentions['count'].head(50)\n",
    "fig, ax = plt.subplots(figsize=(15, 15))\n",
    "plt.barh(x, y)\n",
    "ax.invert_yaxis()\n",
    "#plt.xticks(rotation=90)\n",
    "plt.tight_layout()\n",
    "fig.suptitle('Mentions', fontsize=22)\n",
    "\n",
    "plt.show()"
   ]
  },
  {
   "cell_type": "markdown",
   "metadata": {},
   "source": [
    "### URLS"
   ]
  },
  {
   "cell_type": "code",
   "execution_count": 28,
   "metadata": {},
   "outputs": [],
   "source": [
    "# Need the tweet object to find which URL they share"
   ]
  },
  {
   "cell_type": "code",
   "execution_count": 29,
   "metadata": {},
   "outputs": [],
   "source": [
    "# Parsing them and create a dictionary with original: resolved.\n",
    "# Then check if several point to the same resolved url\n",
    "# If "
   ]
  },
  {
   "cell_type": "code",
   "execution_count": 30,
   "metadata": {},
   "outputs": [
    {
     "data": {
      "text/plain": [
       "count    66910.000000\n",
       "mean         1.029562\n",
       "std          0.543708\n",
       "min          1.000000\n",
       "25%          1.000000\n",
       "50%          1.000000\n",
       "75%          1.000000\n",
       "max         94.000000\n",
       "dtype: float64"
      ]
     },
     "execution_count": 30,
     "metadata": {},
     "output_type": "execute_result"
    }
   ],
   "source": [
    "urls = pd.Series(flatten_list(df['urls']))\n",
    "\n",
    "urls.value_counts().describe()"
   ]
  },
  {
   "cell_type": "code",
   "execution_count": 31,
   "metadata": {},
   "outputs": [],
   "source": [
    "df_urls = urls.value_counts().to_frame().reset_index()\n",
    "df_urls.columns = [\"urls\", 'count']"
   ]
  },
  {
   "cell_type": "code",
   "execution_count": 32,
   "metadata": {},
   "outputs": [],
   "source": [
    "# Need to check the URL to see the full one: \n",
    "def resolve_url(url):\n",
    "    try:\n",
    "        resp = requests.head(url, allow_redirects=True)\n",
    "    #return resp.status_code\n",
    "        return resp.url\n",
    "    except:  # FIXME it is only temporarly because the function is useless right now anyway\n",
    "        return 'InvalidURL'\n",
    "    #return resp.headers[\"Location\"]\n",
    "\n",
    "#session = requests.Session()  # so connections are recycled\n",
    "#resp = session.head(url, allow_redirects=True)\n",
    "#print(resp.url)"
   ]
  },
  {
   "cell_type": "code",
   "execution_count": 33,
   "metadata": {},
   "outputs": [],
   "source": [
    "#df_urls['unshorten_url'] = df_urls['urls'].apply(resolve_url)"
   ]
  },
  {
   "cell_type": "markdown",
   "metadata": {},
   "source": [
    "## Filter the language"
   ]
  },
  {
   "cell_type": "code",
   "execution_count": 34,
   "metadata": {},
   "outputs": [],
   "source": [
    "#model = FastText.load_model(PRETRAINED_FASTTEXT_MODEL)\n",
    "#model = FastText.load_facebook_model(PRETRAINED_FASTTEXT_MODEL)"
   ]
  },
  {
   "cell_type": "code",
   "execution_count": 35,
   "metadata": {},
   "outputs": [
    {
     "name": "stderr",
     "output_type": "stream",
     "text": [
      "\n"
     ]
    }
   ],
   "source": [
    "import fasttext\n",
    "model = fasttext.load_model(PRETRAINED_FASTTEXT_MODEL)"
   ]
  },
  {
   "cell_type": "code",
   "execution_count": 36,
   "metadata": {},
   "outputs": [],
   "source": [
    "# Source: https://amitness.com/2019/07/identify-text-language-python/\n",
    "def get_lang(txt, lang_detector):\n",
    "    try:\n",
    "        label, proba = lang_detector(txt)\n",
    "\n",
    "        if len(label) == 1:  # Only one language detected\n",
    "            label = label[0].replace('__label__', '')\n",
    "            proba = proba[0]\n",
    "        elif len(label) >1:  # Several language detected\n",
    "            label = 'multilangue'\n",
    "            proba = np.mean(proba)  # Get the mean of the proba as not interested in it\n",
    "        \n",
    "    except Exception as e:\n",
    "        label, proba = None, None\n",
    "    return label, proba"
   ]
  },
  {
   "cell_type": "code",
   "execution_count": 37,
   "metadata": {},
   "outputs": [],
   "source": [
    "# Run fasttext to detect language and unpack the tuple (label and proba) \n",
    "# into respective colums\n",
    "df[['lang_label', 'lang_proba']] = pd.DataFrame(df['clean_txt'].apply(get_lang,args=(model.predict,)).tolist())"
   ]
  },
  {
   "cell_type": "markdown",
   "metadata": {},
   "source": [
    "We should first remove all the tweets that have a language different than Spanish with a probability higher than 0.6 (arbitrary threshold).\n",
    "Then we will remove all the tweets that "
   ]
  },
  {
   "cell_type": "code",
   "execution_count": 38,
   "metadata": {},
   "outputs": [],
   "source": [
    "# Check how many tweets have a lang_proba higher than 0.5 and are not considered as 'es'\n",
    "#df[(df['lang_proba'] > 0.6) & ~(df['lang_label'].isin(['es']))]#[['lang', 'lang_label', 'text', 'cleaned_txt']]"
   ]
  },
  {
   "cell_type": "code",
   "execution_count": 39,
   "metadata": {},
   "outputs": [],
   "source": [
    "# Check how many tweets have a lang_proba higher than 0.5 and are not considered as 'es' or 'ca'\n",
    "#df[(df['lang_proba'] < 0.5)]#[['lang', 'lang_label', 'text', 'cleaned_txt']]"
   ]
  },
  {
   "cell_type": "code",
   "execution_count": 40,
   "metadata": {},
   "outputs": [],
   "source": [
    "df_preprocess = df[(df['lang_proba'] > 0.6) & (df['lang_label'].isin(['es'])) & (df['clean_word_count'] > 5)].reset_index()"
   ]
  },
  {
   "cell_type": "code",
   "execution_count": 41,
   "metadata": {},
   "outputs": [],
   "source": [
    "df_preprocess = df_preprocess.rename(columns = {'index':'original_index'})"
   ]
  },
  {
   "cell_type": "code",
   "execution_count": 42,
   "metadata": {},
   "outputs": [],
   "source": [
    "## Tokenize the tweets"
   ]
  },
  {
   "cell_type": "code",
   "execution_count": 43,
   "metadata": {},
   "outputs": [],
   "source": [
    "tokenizer = RegexpTokenizer(r'\\w+')\n",
    "stop_words = set(stopwords.words('spanish'))\n",
    "stop_words.update(['.', ',', '\"', \"'\", ':', ';', '(', ')', '[', ']', '{', '}'])\n",
    "stop_words.update(['MENTION', 'rt', 'URL'])"
   ]
  },
  {
   "cell_type": "code",
   "execution_count": 44,
   "metadata": {},
   "outputs": [],
   "source": [
    "def return_token(txt, tokenizer, stop_words):\n",
    "    tokens =  tokenizer.tokenize(txt)\n",
    "    tokens = [word.lower() for word in tokens if word not in stop_words]\n",
    "    return tokens"
   ]
  },
  {
   "cell_type": "code",
   "execution_count": 45,
   "metadata": {},
   "outputs": [],
   "source": [
    "word_tokenized_corpus = df_preprocess['clean_txt'].apply(return_token, tokenizer=tokenizer, stop_words=stop_words)"
   ]
  },
  {
   "cell_type": "code",
   "execution_count": 46,
   "metadata": {},
   "outputs": [
    {
     "data": {
      "text/plain": [
       "0                                             [peligrosos, mismo]\n",
       "1                                    [hace, pp, hac, is, solitos]\n",
       "2                                    [hace, pp, hac, is, solitos]\n",
       "3         [historia, repite, socialismo, comunismo, nacionalismo]\n",
       "4                                 [si, claro, dicen, cuba, tambi]\n",
       "                                   ...                           \n",
       "132276                                              [ig, juanito]\n",
       "132277                                            [mejor, okupas]\n",
       "132278                                   [hacerlo, twitter, mart]\n",
       "132279                                         [hac, ac, juancho]\n",
       "132280                              [mauro, ayer, dijiste, genio]\n",
       "Name: clean_txt, Length: 132281, dtype: object"
      ]
     },
     "execution_count": 46,
     "metadata": {},
     "output_type": "execute_result"
    }
   ],
   "source": [
    "word_tokenized_corpus"
   ]
  },
  {
   "cell_type": "markdown",
   "metadata": {},
   "source": [
    "## LDA Implementation"
   ]
  },
  {
   "cell_type": "markdown",
   "metadata": {},
   "source": [
    "Source: \n",
    "1. https://www.machinelearningplus.com/nlp/topic-modeling-python-sklearn-examples/\n",
    "1. https://radimrehurek.com/gensim/auto_examples/tutorials/run_lda.html\n",
    "1. https://towardsdatascience.com/evaluate-topic-model-in-python-latent-dirichlet-allocation-lda-7d57484bb5d0"
   ]
  },
  {
   "cell_type": "code",
   "execution_count": 47,
   "metadata": {},
   "outputs": [],
   "source": [
    "from gensim.models import CoherenceModel\n",
    "from gensim.models import Phrases\n",
    "from gensim import corpora \n",
    "import gensim"
   ]
  },
  {
   "cell_type": "code",
   "execution_count": null,
   "metadata": {},
   "outputs": [],
   "source": [
    "def compute_coherence_values(dictionary, corpus, texts, limit, start=2, step=3):\n",
    "    \"\"\"\n",
    "    Compute c_v coherence for various number of topics\n",
    "\n",
    "    Parameters:\n",
    "    ----------\n",
    "    dictionary : Gensim dictionary\n",
    "    corpus : Gensim corpus\n",
    "    texts : List of input texts\n",
    "    limit : Max num of topics\n",
    "\n",
    "    Returns:\n",
    "    -------\n",
    "    model_list : List of LDA topic models\n",
    "    coherence_values : Coherence values corresponding to the LDA model with respective number of topics\n",
    "    \"\"\"\n",
    "    coherence_values = []\n",
    "    model_list = []\n",
    "    for num_topics in range(start, limit, step):\n",
    "        model = gensim.models.wrappers.LdaMallet(mallet_path, corpus=corpus, num_topics=num_topics, id2word=id2word)\n",
    "        model_list.append(model)\n",
    "        coherencemodel = CoherenceModel(model=model, texts=texts, dictionary=dictionary, coherence='c_v')\n",
    "        coherence_values.append(coherencemodel.get_coherence())\n",
    "\n",
    "    return model_list, coherence_values"
   ]
  },
  {
   "cell_type": "code",
   "execution_count": 48,
   "metadata": {},
   "outputs": [],
   "source": [
    "# supporting function\n",
    "def compute_coherence_values(corpus, dictionary, k, a='auto', eta='None'):\n",
    "    \n",
    "    lda_model = gensim.models.LdaMulticore(corpus=corpus,\n",
    "                                           id2word=dictionary,\n",
    "                                           num_topics=k, \n",
    "                                           random_state=100,\n",
    "                                           chunksize=100,\n",
    "                                           passes=10,\n",
    "                                           alpha=a,\n",
    "                                           eta=eta,\n",
    "                                           per_word_topics=True, \n",
    "                                          workers=3)\n",
    "    \n",
    "    coherence_model_lda = CoherenceModel(model=lda_model, texts=corpus, dictionary=id2word, coherence='c_v')\n",
    "    \n",
    "    return coherence_model_lda.get_coherence()"
   ]
  },
  {
   "cell_type": "code",
   "execution_count": 49,
   "metadata": {},
   "outputs": [],
   "source": [
    "docs = word_tokenized_corpus"
   ]
  },
  {
   "cell_type": "code",
   "execution_count": 50,
   "metadata": {},
   "outputs": [
    {
     "ename": "NameError",
     "evalue": "name 'data_words_nostops' is not defined",
     "output_type": "error",
     "traceback": [
      "\u001b[0;31m---------------------------------------------------------------------------\u001b[0m",
      "\u001b[0;31mNameError\u001b[0m                                 Traceback (most recent call last)",
      "\u001b[0;32m<ipython-input-50-5bf47b21d1a3>\u001b[0m in \u001b[0;36m<module>\u001b[0;34m\u001b[0m\n\u001b[1;32m     10\u001b[0m \u001b[0;31m#    return [trigram_mod[bigram_mod[doc]] for doc in texts]\u001b[0m\u001b[0;34m\u001b[0m\u001b[0;34m\u001b[0m\u001b[0;34m\u001b[0m\u001b[0m\n\u001b[1;32m     11\u001b[0m \u001b[0;31m# Form Bigrams\u001b[0m\u001b[0;34m\u001b[0m\u001b[0;34m\u001b[0m\u001b[0;34m\u001b[0m\u001b[0m\n\u001b[0;32m---> 12\u001b[0;31m \u001b[0mdata_words_bigrams\u001b[0m \u001b[0;34m=\u001b[0m \u001b[0mmake_bigrams\u001b[0m\u001b[0;34m(\u001b[0m\u001b[0mdata_words_nostops\u001b[0m\u001b[0;34m)\u001b[0m\u001b[0;34m\u001b[0m\u001b[0;34m\u001b[0m\u001b[0m\n\u001b[0m",
      "\u001b[0;31mNameError\u001b[0m: name 'data_words_nostops' is not defined"
     ]
    }
   ],
   "source": [
    "# Build the bigram and trigram models\n",
    "bigram = gensim.models.Phrases(docs, min_count=5)#, threshold=100) # higher threshold fewer phrases.\n",
    "#trigram = gensim.models.Phrases(bigram[data_words], threshold=100)# Faster way to get a sentence clubbed as a trigram/bigram\n",
    "bigram_mod = gensim.models.phrases.Phraser(bigram)\n",
    "#trigram_mod = gensim.models.phrases.Phraser(trigram)\n",
    "def make_bigrams(texts):\n",
    "    return [bigram_mod[doc] for doc in texts]\n",
    "\n",
    "#def make_trigrams(texts):\n",
    "#    return [trigram_mod[bigram_mod[doc]] for doc in texts]\n",
    "# Form Bigrams\n",
    "data_words_bigrams = make_bigrams(data_words_nostops)"
   ]
  },
  {
   "cell_type": "code",
   "execution_count": 51,
   "metadata": {},
   "outputs": [],
   "source": [
    "# Compute bigrams.\n",
    "# Add bigrams and trigrams to docs (only ones that appear 20 times or more).\n",
    "bigram = Phrases(docs, min_count=5)\n",
    "for idx in range(len(docs)):\n",
    "    for token in bigram[docs[idx]]:\n",
    "        if '_' in token:\n",
    "            # Token is a bigram, add to document.\n",
    "            docs[idx].append(token)\n"
   ]
  },
  {
   "cell_type": "code",
   "execution_count": 52,
   "metadata": {},
   "outputs": [],
   "source": [
    "id2word = corpora.Dictionary(word_tokenized_corpus)\n",
    "# Filter out words that occur less than 20 documents, or more than 50% of the documents.\n",
    "#id2word.filter_extremes(no_below=20, no_above=0.5)\n",
    "corpus = [id2word.doc2bow(text) for text in word_tokenized_corpus]"
   ]
  },
  {
   "cell_type": "code",
   "execution_count": null,
   "metadata": {},
   "outputs": [],
   "source": [
    "grid = {}\n",
    "grid['Validation_Set'] = {}\n",
    "# Topics range\n",
    "min_topics = 2\n",
    "max_topics = 11\n",
    "step_size = 1\n",
    "topics_range = range(min_topics, max_topics, step_size)\n",
    "# Alpha parameter\n",
    "alpha = list(np.arange(0.01, 1, 0.3))\n",
    "alpha.append('symmetric')\n",
    "alpha.append('asymmetric')\n",
    "# Beta parameter\n",
    "beta = list(np.arange(0.01, 1, 0.3))\n",
    "beta.append('symmetric')\n",
    "# Validation sets\n",
    "num_of_docs = len(corpus)\n",
    "corpus_sets = [# gensim.utils.ClippedCorpus(corpus, num_of_docs*0.25), \n",
    "               # gensim.utils.ClippedCorpus(corpus, num_of_docs*0.5), \n",
    "               #gensim.utils.ClippedCorpus(corpus, num_of_docs*0.75), \n",
    "               corpus]\n",
    "\n",
    "corpus_title = [#'75% Corpus', \n",
    "                '100% Corpus']\n",
    "model_results = {'Validation_Set': [],\n",
    "                 'Topics': [],\n",
    "                 'Alpha': [],\n",
    "                 'Beta': [],\n",
    "                 'Coherence': []\n",
    "                }\n",
    "\n",
    "# Can take a long time to run\n",
    "\n",
    "pbar = tqdm(total=540)\n",
    "    \n",
    "# iterate through validation corpuses\n",
    "for i in range(len(corpus_sets)):\n",
    "    # iterate through number of topics\n",
    "    for k in topics_range:\n",
    "        # iterate through alpha values\n",
    "        for a in alpha:\n",
    "            # iterare through beta values\n",
    "            for b in beta:\n",
    "                # get the coherence score for the given parameters\n",
    "                cv = compute_coherence_values(corpus=corpus_sets[i], dictionary=id2word, \n",
    "                                                  k=k, a=a, etan=b)\n",
    "                # Save the model results\n",
    "                model_results['Validation_Set'].append(corpus_title[i])\n",
    "                model_results['Topics'].append(k)\n",
    "                model_results['Alpha'].append(a)\n",
    "                model_results['Beta'].append(b)\n",
    "                model_results['Coherence'].append(cv)\n",
    "                    \n",
    "                pbar.update(1)\n",
    "pd.DataFrame(model_results).to_csv('./lda_tuning_results.csv', index=False)\n",
    "pbar.close()"
   ]
  },
  {
   "cell_type": "code",
   "execution_count": null,
   "metadata": {},
   "outputs": [],
   "source": [
    "grid = {}\n",
    "grid['Validation_Set'] = {}\n",
    "# Topics range\n",
    "min_topics = 2\n",
    "max_topics = 11\n",
    "topics_range = range(min_topics, max_topics, 1)\n",
    "# Validation sets\n",
    "num_of_docs = len(corpus)\n",
    "\n",
    "model_results = {'Topics': [],  'Coherence': []}\n",
    "\n",
    "# Can take a long time to run\n",
    "\n",
    "pbar = tqdm(total=len(topics_range))\n",
    "    \n",
    "\n",
    "# iterate through number of topics\n",
    "for k in topics_range:\n",
    "    lda_model = gensim.models.ldamodel.LdaModel(corpus=corpus,id2word=id2word,num_topics=k, random_state=100,update_every=1,\n",
    "                                                chunksize=100,passes=10,alpha='auto',per_word_topics=True)\n",
    "        \n",
    "    coherence_model_lda = CoherenceModel(model=lda_model, texts=corpus, dictionary=id2word, coherence='c_v')\n",
    "    \n",
    "    cv = coherence_model_lda.get_coherence()\n",
    "    # Save the model results\n",
    "    model_results['Validation_Set'].append(corpus_title[i])\n",
    "    model_results['Topics'].append(k)\n",
    "    model_results['Coherence'].append(cv)\n",
    "                    \n",
    "    pbar.update(1)\n",
    "pd.DataFrame(model_results).to_csv('./lda_tuning_results.csv', index=False)\n",
    "pbar.close()"
   ]
  },
  {
   "cell_type": "code",
   "execution_count": null,
   "metadata": {},
   "outputs": [],
   "source": [
    "lda_model.print_topics()\n"
   ]
  },
  {
   "cell_type": "code",
   "execution_count": 53,
   "metadata": {},
   "outputs": [],
   "source": [
    "# Build LDA model\n",
    "NUM_TOPICS = 10\n",
    "\n",
    "lda_model = gensim.models.ldamodel.LdaModel(corpus=corpus,\n",
    "                                           id2word=id2word,\n",
    "                                           num_topics=NUM_TOPICS, \n",
    "                                           random_state=100,\n",
    "                                           update_every=1,\n",
    "                                           chunksize=100,\n",
    "                                           passes=10,\n",
    "                                           alpha='auto',\n",
    "                                           per_word_topics=True)"
   ]
  },
  {
   "cell_type": "code",
   "execution_count": null,
   "metadata": {},
   "outputs": [],
   "source": [
    "# Define Search Param\n",
    "search_params = {'n_components': [10, 15, 20, 25, 30], 'learning_decay': [.5, .7, .9]}\n",
    "\n",
    "# Init the Model\n",
    "lda = LatentDirichletAllocation()\n",
    "\n",
    "# Init Grid Search Class\n",
    "model = GridSearchCV(lda, param_grid=search_params)\n",
    "\n",
    "# Do the Grid Search\n",
    "model.fit(data_vectorized)"
   ]
  },
  {
   "cell_type": "markdown",
   "metadata": {},
   "source": [
    "## Visualisation of LDA"
   ]
  },
  {
   "cell_type": "markdown",
   "metadata": {},
   "source": [
    "Source: https://www.machinelearningplus.com/nlp/topic-modeling-visualization-how-to-present-results-lda-models/"
   ]
  },
  {
   "cell_type": "code",
   "execution_count": 54,
   "metadata": {},
   "outputs": [],
   "source": [
    "import matplotlib.colors\n",
    "cols = [color for name, color in matplotlib.colors.TABLEAU_COLORS.items()] "
   ]
  },
  {
   "cell_type": "code",
   "execution_count": 57,
   "metadata": {},
   "outputs": [
    {
     "name": "stdout",
     "output_type": "stream",
     "text": [
      "(0, '0.063*\"ahora\" + 0.040*\"hoy\" + 0.026*\"dos\" + 0.023*\"hab\" + 0.019*\"dinero\" + 0.016*\"cu\" + 0.016*\"ve\" + 0.014*\"virus\" + 0.014*\"tendr\" + 0.013*\"pasar\"')\n",
      "(1, '0.027*\"covid\" + 0.027*\"vez\" + 0.026*\"puede\" + 0.025*\"cada\" + 0.022*\"tan\" + 0.021*\"mierda\" + 0.016*\"nchez\" + 0.015*\"entonces\" + 0.014*\"puta\" + 0.012*\"jajajaja\"')\n",
      "(2, '0.071*\"ser\" + 0.042*\"va\" + 0.035*\"pues\" + 0.016*\"quiero\" + 0.015*\"mo\" + 0.015*\"enza\" + 0.015*\"quiere\" + 0.015*\"deber\" + 0.014*\"crisis\" + 0.014*\"dar\"')\n",
      "(3, '0.067*\"si\" + 0.046*\"s\" + 0.041*\"est\" + 0.024*\"as\" + 0.019*\"hacer\" + 0.014*\"sanchezveteya\" + 0.010*\"da\" + 0.010*\"siempre\" + 0.009*\"decir\" + 0.009*\"mismo\"')\n",
      "(4, '0.061*\"espa\" + 0.019*\"nunca\" + 0.017*\"bueno\" + 0.017*\"mas\" + 0.017*\"personas\" + 0.017*\"cuarentena\" + 0.016*\"mundo\" + 0.013*\"oles\" + 0.013*\"espa_oles\" + 0.011*\"poder\"')\n",
      "(5, '0.027*\"cosas\" + 0.025*\"parece\" + 0.024*\"cuenta\" + 0.022*\"coronavirus\" + 0.018*\"haciendo\" + 0.018*\"culpa\" + 0.016*\"bulo\" + 0.016*\"ma\" + 0.016*\"pp\" + 0.016*\"usted\"')\n",
      "(6, '0.052*\"gobierno\" + 0.025*\"gente\" + 0.023*\"ver\" + 0.019*\"solo\" + 0.019*\"pa\" + 0.018*\"hace\" + 0.016*\"vox\" + 0.015*\"menos\" + 0.012*\"an\" + 0.011*\"nadie\"')\n",
      "(7, '0.053*\"vida\" + 0.024*\"hacen\" + 0.020*\"libertad\" + 0.018*\"informaci\" + 0.018*\"presidente\" + 0.017*\"historia\" + 0.016*\"visto\" + 0.015*\"mascarillas\" + 0.015*\"comunistas\" + 0.014*\"ganas\"')\n",
      "(8, '0.041*\"qu\" + 0.028*\"psoe\" + 0.025*\"verdad\" + 0.020*\"mal\" + 0.020*\"creo\" + 0.019*\"muertos\" + 0.018*\"van\" + 0.018*\"m\" + 0.015*\"claro\" + 0.015*\"gesti\"')\n",
      "(9, '0.053*\"is\" + 0.039*\"bien\" + 0.033*\"mejor\" + 0.028*\"gracias\" + 0.027*\"tambi\" + 0.024*\"tener\" + 0.020*\"casa\" + 0.016*\"aqu\" + 0.016*\"jajaja\" + 0.013*\"muchas\"')\n"
     ]
    }
   ],
   "source": [
    "topics = lda_model.print_topics(num_words=10)\n",
    "for topic in topics:\n",
    "    print(topic)"
   ]
  },
  {
   "cell_type": "markdown",
   "metadata": {},
   "source": [
    " ### Dominant topic and its percentage contribution in each document"
   ]
  },
  {
   "cell_type": "code",
   "execution_count": 58,
   "metadata": {},
   "outputs": [
    {
     "data": {
      "text/html": [
       "<div>\n",
       "<style scoped>\n",
       "    .dataframe tbody tr th:only-of-type {\n",
       "        vertical-align: middle;\n",
       "    }\n",
       "\n",
       "    .dataframe tbody tr th {\n",
       "        vertical-align: top;\n",
       "    }\n",
       "\n",
       "    .dataframe thead th {\n",
       "        text-align: right;\n",
       "    }\n",
       "</style>\n",
       "<table border=\"1\" class=\"dataframe\">\n",
       "  <thead>\n",
       "    <tr style=\"text-align: right;\">\n",
       "      <th></th>\n",
       "      <th>Document_No</th>\n",
       "      <th>Dominant_Topic</th>\n",
       "      <th>Topic_Perc_Contrib</th>\n",
       "      <th>Keywords</th>\n",
       "      <th>Text</th>\n",
       "    </tr>\n",
       "  </thead>\n",
       "  <tbody>\n",
       "    <tr>\n",
       "      <th>0</th>\n",
       "      <td>0</td>\n",
       "      <td>3.0</td>\n",
       "      <td>0.2769</td>\n",
       "      <td>si, s, est, as, hacer, sanchezveteya, da, siempre, decir, mismo</td>\n",
       "      <td>[peligrosos, mismo]</td>\n",
       "    </tr>\n",
       "    <tr>\n",
       "      <th>1</th>\n",
       "      <td>1</td>\n",
       "      <td>3.0</td>\n",
       "      <td>0.1933</td>\n",
       "      <td>si, s, est, as, hacer, sanchezveteya, da, siempre, decir, mismo</td>\n",
       "      <td>[hace, pp, hac, is, solitos, hac_is]</td>\n",
       "    </tr>\n",
       "    <tr>\n",
       "      <th>2</th>\n",
       "      <td>2</td>\n",
       "      <td>3.0</td>\n",
       "      <td>0.1933</td>\n",
       "      <td>si, s, est, as, hacer, sanchezveteya, da, siempre, decir, mismo</td>\n",
       "      <td>[hace, pp, hac, is, solitos, hac_is]</td>\n",
       "    </tr>\n",
       "    <tr>\n",
       "      <th>3</th>\n",
       "      <td>3</td>\n",
       "      <td>3.0</td>\n",
       "      <td>0.2170</td>\n",
       "      <td>si, s, est, as, hacer, sanchezveteya, da, siempre, decir, mismo</td>\n",
       "      <td>[historia, repite, socialismo, comunismo, nacionalismo, historia_repite, socialismo_comunismo]</td>\n",
       "    </tr>\n",
       "    <tr>\n",
       "      <th>4</th>\n",
       "      <td>4</td>\n",
       "      <td>3.0</td>\n",
       "      <td>0.2229</td>\n",
       "      <td>si, s, est, as, hacer, sanchezveteya, da, siempre, decir, mismo</td>\n",
       "      <td>[si, claro, dicen, cuba, tambi]</td>\n",
       "    </tr>\n",
       "    <tr>\n",
       "      <th>5</th>\n",
       "      <td>5</td>\n",
       "      <td>3.0</td>\n",
       "      <td>0.2683</td>\n",
       "      <td>si, s, est, as, hacer, sanchezveteya, da, siempre, decir, mismo</td>\n",
       "      <td>[si, vimos, ayer, jetas]</td>\n",
       "    </tr>\n",
       "    <tr>\n",
       "      <th>6</th>\n",
       "      <td>6</td>\n",
       "      <td>3.0</td>\n",
       "      <td>0.1934</td>\n",
       "      <td>si, s, est, as, hacer, sanchezveteya, da, siempre, decir, mismo</td>\n",
       "      <td>[foto, va, maquillada, nota, huevo, adem]</td>\n",
       "    </tr>\n",
       "    <tr>\n",
       "      <th>7</th>\n",
       "      <td>7</td>\n",
       "      <td>3.0</td>\n",
       "      <td>0.2063</td>\n",
       "      <td>si, s, est, as, hacer, sanchezveteya, da, siempre, decir, mismo</td>\n",
       "      <td>[normal, ciudadana, tambi]</td>\n",
       "    </tr>\n",
       "    <tr>\n",
       "      <th>8</th>\n",
       "      <td>8</td>\n",
       "      <td>8.0</td>\n",
       "      <td>0.2092</td>\n",
       "      <td>qu, psoe, verdad, mal, creo, muertos, van, m, claro, gesti</td>\n",
       "      <td>[unidos, millones, habitantes, millones_habitantes]</td>\n",
       "    </tr>\n",
       "    <tr>\n",
       "      <th>9</th>\n",
       "      <td>9</td>\n",
       "      <td>3.0</td>\n",
       "      <td>0.2122</td>\n",
       "      <td>si, s, est, as, hacer, sanchezveteya, da, siempre, decir, mismo</td>\n",
       "      <td>[buenas, horas, piren, buenas_horas]</td>\n",
       "    </tr>\n",
       "  </tbody>\n",
       "</table>\n",
       "</div>"
      ],
      "text/plain": [
       "   Document_No  Dominant_Topic  Topic_Perc_Contrib                                                         Keywords                                                                                            Text\n",
       "0            0             3.0              0.2769  si, s, est, as, hacer, sanchezveteya, da, siempre, decir, mismo                                                                             [peligrosos, mismo]\n",
       "1            1             3.0              0.1933  si, s, est, as, hacer, sanchezveteya, da, siempre, decir, mismo                                                            [hace, pp, hac, is, solitos, hac_is]\n",
       "2            2             3.0              0.1933  si, s, est, as, hacer, sanchezveteya, da, siempre, decir, mismo                                                            [hace, pp, hac, is, solitos, hac_is]\n",
       "3            3             3.0              0.2170  si, s, est, as, hacer, sanchezveteya, da, siempre, decir, mismo  [historia, repite, socialismo, comunismo, nacionalismo, historia_repite, socialismo_comunismo]\n",
       "4            4             3.0              0.2229  si, s, est, as, hacer, sanchezveteya, da, siempre, decir, mismo                                                                 [si, claro, dicen, cuba, tambi]\n",
       "5            5             3.0              0.2683  si, s, est, as, hacer, sanchezveteya, da, siempre, decir, mismo                                                                        [si, vimos, ayer, jetas]\n",
       "6            6             3.0              0.1934  si, s, est, as, hacer, sanchezveteya, da, siempre, decir, mismo                                                       [foto, va, maquillada, nota, huevo, adem]\n",
       "7            7             3.0              0.2063  si, s, est, as, hacer, sanchezveteya, da, siempre, decir, mismo                                                                      [normal, ciudadana, tambi]\n",
       "8            8             8.0              0.2092       qu, psoe, verdad, mal, creo, muertos, van, m, claro, gesti                                             [unidos, millones, habitantes, millones_habitantes]\n",
       "9            9             3.0              0.2122  si, s, est, as, hacer, sanchezveteya, da, siempre, decir, mismo                                                            [buenas, horas, piren, buenas_horas]"
      ]
     },
     "execution_count": 58,
     "metadata": {},
     "output_type": "execute_result"
    }
   ],
   "source": [
    "def format_topics_sentences(ldamodel=None, corpus=corpus, texts=None):\n",
    "    # Init output\n",
    "    sent_topics_df = pd.DataFrame()\n",
    "\n",
    "    # Get main topic in each document\n",
    "    for i, row_list in enumerate(ldamodel[corpus]):\n",
    "        row = row_list[0] if ldamodel.per_word_topics else row_list            \n",
    "        # print(row)\n",
    "        row = sorted(row, key=lambda x: (x[1]), reverse=True)\n",
    "        # Get the Dominant topic, Perc Contribution and Keywords for each document\n",
    "        for j, (topic_num, prop_topic) in enumerate(row):\n",
    "            if j == 0:  # => dominant topic\n",
    "                wp = ldamodel.show_topic(topic_num)\n",
    "                topic_keywords = \", \".join([word for word, prop in wp])\n",
    "                sent_topics_df = sent_topics_df.append(pd.Series([int(topic_num), round(prop_topic,4), topic_keywords]), ignore_index=True)\n",
    "            else:\n",
    "                break\n",
    "    sent_topics_df.columns = ['Dominant_Topic', 'Perc_Contribution', 'Topic_Keywords']\n",
    "\n",
    "    # Add original text to the end of the output\n",
    "    contents = pd.Series(texts)\n",
    "    sent_topics_df = pd.concat([sent_topics_df, contents], axis=1)\n",
    "    return(sent_topics_df)\n",
    "\n",
    "\n",
    "df_topic_sents_keywords = format_topics_sentences(ldamodel=lda_model, corpus=corpus, texts=word_tokenized_corpus)\n",
    "\n",
    "# Format\n",
    "df_dominant_topic = df_topic_sents_keywords.reset_index()\n",
    "df_dominant_topic.columns = ['Document_No', 'Dominant_Topic', 'Topic_Perc_Contrib', 'Keywords', 'Text']\n",
    "df_dominant_topic.head(10)"
   ]
  },
  {
   "cell_type": "markdown",
   "metadata": {},
   "source": [
    "### Most representative sentence for each topic"
   ]
  },
  {
   "cell_type": "code",
   "execution_count": 59,
   "metadata": {},
   "outputs": [
    {
     "data": {
      "text/html": [
       "<div>\n",
       "<style scoped>\n",
       "    .dataframe tbody tr th:only-of-type {\n",
       "        vertical-align: middle;\n",
       "    }\n",
       "\n",
       "    .dataframe tbody tr th {\n",
       "        vertical-align: top;\n",
       "    }\n",
       "\n",
       "    .dataframe thead th {\n",
       "        text-align: right;\n",
       "    }\n",
       "</style>\n",
       "<table border=\"1\" class=\"dataframe\">\n",
       "  <thead>\n",
       "    <tr style=\"text-align: right;\">\n",
       "      <th></th>\n",
       "      <th>Topic_Num</th>\n",
       "      <th>Topic_Perc_Contrib</th>\n",
       "      <th>Keywords</th>\n",
       "      <th>Representative Text</th>\n",
       "    </tr>\n",
       "  </thead>\n",
       "  <tbody>\n",
       "    <tr>\n",
       "      <th>0</th>\n",
       "      <td>0.0</td>\n",
       "      <td>0.3165</td>\n",
       "      <td>ahora, hoy, dos, hab, dinero, cu, ve, virus, tendr, pasar</td>\n",
       "      <td>[k, k, k, k, k, k, k, k, k, cuatro, ka, cuatro, ka, cuatro, ka, cuatro, ka, cuatro, ka, cuatro, ...</td>\n",
       "    </tr>\n",
       "    <tr>\n",
       "      <th>1</th>\n",
       "      <td>1.0</td>\n",
       "      <td>0.3478</td>\n",
       "      <td>covid, vez, puede, cada, tan, mierda, nchez, entonces, puta, jajajaja</td>\n",
       "      <td>[nde, sale, ignorante, sabe, sico, econom, nde, sale, dinero, funci, casa, moneda, etc, flipo, c...</td>\n",
       "    </tr>\n",
       "    <tr>\n",
       "      <th>2</th>\n",
       "      <td>2.0</td>\n",
       "      <td>0.3338</td>\n",
       "      <td>ser, va, pues, quiero, mo, enza, quiere, deber, crisis, dar</td>\n",
       "      <td>[gobierno, va, caer, gobierno, va, caer, gobierno, va, caer, gobierno, va, caer, gobierno, va, c...</td>\n",
       "    </tr>\n",
       "    <tr>\n",
       "      <th>3</th>\n",
       "      <td>3.0</td>\n",
       "      <td>0.4494</td>\n",
       "      <td>si, s, est, as, hacer, sanchezveteya, da, siempre, decir, mismo</td>\n",
       "      <td>[espa, anotequiere, espa, anotequiere, espa, anotequiere, espa, anotequiere, espa, anotequiere, ...</td>\n",
       "    </tr>\n",
       "    <tr>\n",
       "      <th>4</th>\n",
       "      <td>4.0</td>\n",
       "      <td>0.3490</td>\n",
       "      <td>espa, nunca, bueno, mas, personas, cuarentena, mundo, oles, espa_oles, poder</td>\n",
       "      <td>[tic, tac, tic, tac, tic, tac, comenzado, tiempo, descuento, tic, tac, tic, tac, momento, afortu...</td>\n",
       "    </tr>\n",
       "    <tr>\n",
       "      <th>5</th>\n",
       "      <td>5.0</td>\n",
       "      <td>0.3383</td>\n",
       "      <td>cosas, parece, cuenta, coronavirus, haciendo, culpa, bulo, ma, pp, usted</td>\n",
       "      <td>[haciendo, zapping, aparece, payaso, ste, soltando, sandeces, chistes, fr, volos, covid, origen,...</td>\n",
       "    </tr>\n",
       "    <tr>\n",
       "      <th>6</th>\n",
       "      <td>6.0</td>\n",
       "      <td>0.4127</td>\n",
       "      <td>gobierno, gente, ver, solo, pa, hace, vox, menos, an, nadie</td>\n",
       "      <td>[gusta, gusta, gusta, gusta, gusta, gusta, gusta, gusta, gusta, gusta, gusta, gusta]</td>\n",
       "    </tr>\n",
       "    <tr>\n",
       "      <th>7</th>\n",
       "      <td>7.0</td>\n",
       "      <td>0.2819</td>\n",
       "      <td>vida, hacen, libertad, informaci, presidente, historia, visto, mascarillas, comunistas, ganas</td>\n",
       "      <td>[cu, rgano, precedente, consejo, derechos, humanos, naciones, unidas, oposiciones, asamblea, der...</td>\n",
       "    </tr>\n",
       "    <tr>\n",
       "      <th>8</th>\n",
       "      <td>8.0</td>\n",
       "      <td>0.4718</td>\n",
       "      <td>qu, psoe, verdad, mal, creo, muertos, van, m, claro, gesti</td>\n",
       "      <td>[espa, millones, habitantes, muertos, inglaterra, millones, habitantes, muertos, francia, millon...</td>\n",
       "    </tr>\n",
       "    <tr>\n",
       "      <th>9</th>\n",
       "      <td>9.0</td>\n",
       "      <td>0.3252</td>\n",
       "      <td>is, bien, mejor, gracias, tambi, tener, casa, aqu, jajaja, muchas</td>\n",
       "      <td>[sanchezveteya, mejor, mejor, mejor, mejor, mejor, mejor, mejor, mejor, mejor, mejor, mejor, suj...</td>\n",
       "    </tr>\n",
       "  </tbody>\n",
       "</table>\n",
       "</div>"
      ],
      "text/plain": [
       "   Topic_Num  Topic_Perc_Contrib                                                                                       Keywords                                                                                  Representative Text\n",
       "0        0.0              0.3165                                      ahora, hoy, dos, hab, dinero, cu, ve, virus, tendr, pasar  [k, k, k, k, k, k, k, k, k, cuatro, ka, cuatro, ka, cuatro, ka, cuatro, ka, cuatro, ka, cuatro, ...\n",
       "1        1.0              0.3478                          covid, vez, puede, cada, tan, mierda, nchez, entonces, puta, jajajaja  [nde, sale, ignorante, sabe, sico, econom, nde, sale, dinero, funci, casa, moneda, etc, flipo, c...\n",
       "2        2.0              0.3338                                    ser, va, pues, quiero, mo, enza, quiere, deber, crisis, dar  [gobierno, va, caer, gobierno, va, caer, gobierno, va, caer, gobierno, va, caer, gobierno, va, c...\n",
       "3        3.0              0.4494                                si, s, est, as, hacer, sanchezveteya, da, siempre, decir, mismo  [espa, anotequiere, espa, anotequiere, espa, anotequiere, espa, anotequiere, espa, anotequiere, ...\n",
       "4        4.0              0.3490                   espa, nunca, bueno, mas, personas, cuarentena, mundo, oles, espa_oles, poder  [tic, tac, tic, tac, tic, tac, comenzado, tiempo, descuento, tic, tac, tic, tac, momento, afortu...\n",
       "5        5.0              0.3383                       cosas, parece, cuenta, coronavirus, haciendo, culpa, bulo, ma, pp, usted  [haciendo, zapping, aparece, payaso, ste, soltando, sandeces, chistes, fr, volos, covid, origen,...\n",
       "6        6.0              0.4127                                    gobierno, gente, ver, solo, pa, hace, vox, menos, an, nadie                 [gusta, gusta, gusta, gusta, gusta, gusta, gusta, gusta, gusta, gusta, gusta, gusta]\n",
       "7        7.0              0.2819  vida, hacen, libertad, informaci, presidente, historia, visto, mascarillas, comunistas, ganas  [cu, rgano, precedente, consejo, derechos, humanos, naciones, unidas, oposiciones, asamblea, der...\n",
       "8        8.0              0.4718                                     qu, psoe, verdad, mal, creo, muertos, van, m, claro, gesti  [espa, millones, habitantes, muertos, inglaterra, millones, habitantes, muertos, francia, millon...\n",
       "9        9.0              0.3252                              is, bien, mejor, gracias, tambi, tener, casa, aqu, jajaja, muchas  [sanchezveteya, mejor, mejor, mejor, mejor, mejor, mejor, mejor, mejor, mejor, mejor, mejor, suj..."
      ]
     },
     "execution_count": 59,
     "metadata": {},
     "output_type": "execute_result"
    }
   ],
   "source": [
    "sent_topics_sorteddf_mallet = pd.DataFrame()\n",
    "sent_topics_outdf_grpd = df_topic_sents_keywords.groupby('Dominant_Topic')\n",
    "\n",
    "for i, grp in sent_topics_outdf_grpd:\n",
    "    sent_topics_sorteddf_mallet = pd.concat([sent_topics_sorteddf_mallet, \n",
    "                                             grp.sort_values(['Perc_Contribution'], ascending=False).head(1)], \n",
    "                                            axis=0)\n",
    "\n",
    "# Reset Index    \n",
    "sent_topics_sorteddf_mallet.reset_index(drop=True, inplace=True)\n",
    "\n",
    "# Format\n",
    "sent_topics_sorteddf_mallet.columns = ['Topic_Num', \"Topic_Perc_Contrib\", \"Keywords\", \"Representative Text\"]\n",
    "\n",
    "# Show\n",
    "sent_topics_sorteddf_mallet.head(10)"
   ]
  },
  {
   "cell_type": "markdown",
   "metadata": {},
   "source": [
    "### Frequency Distribution of Word Counts in Documents"
   ]
  },
  {
   "cell_type": "code",
   "execution_count": 60,
   "metadata": {},
   "outputs": [
    {
     "data": {
      "image/png": "[encoded data removed]",
      "text/plain": [
       "<Figure size 1152x1008 with 1 Axes>"
      ]
     },
     "metadata": {
      "needs_background": "light"
     },
     "output_type": "display_data"
    }
   ],
   "source": [
    "doc_lens = [len(d) for d in df_dominant_topic.Text]\n",
    "\n",
    "# Plot\n",
    "plt.figure(figsize=(16,14))\n",
    "plt.hist(doc_lens, bins = 1000, color='navy')\n",
    "plt.text(750, 100, \"Mean   : \" + str(round(np.mean(doc_lens))))\n",
    "plt.text(750,  90, \"Median : \" + str(round(np.median(doc_lens))))\n",
    "plt.text(750,  80, \"Stdev   : \" + str(round(np.std(doc_lens))))\n",
    "plt.text(750,  70, \"1%ile    : \" + str(round(np.quantile(doc_lens, q=0.01))))\n",
    "plt.text(750,  60, \"99%ile  : \" + str(round(np.quantile(doc_lens, q=0.99))))\n",
    "\n",
    "plt.gca().set(xlim=(0, 100), ylabel='Number of Documents', xlabel='Document Word Count')\n",
    "plt.tick_params(size=16)\n",
    "plt.xticks(np.linspace(0,100,9))\n",
    "plt.title('Distribution of Document Word Counts', fontdict=dict(size=22))\n",
    "plt.show()"
   ]
  },
  {
   "cell_type": "code",
   "execution_count": 61,
   "metadata": {},
   "outputs": [
    {
     "data": {
      "image/png": "[encoded data removed]",
      "text/plain": [
       "<Figure size 1152x1008 with 8 Axes>"
      ]
     },
     "metadata": {
      "needs_background": "light"
     },
     "output_type": "display_data"
    }
   ],
   "source": [
    "import seaborn as sns\n",
    "\n",
    "\n",
    "fig, axes = plt.subplots(2,2,figsize=(16,14), sharex=True, sharey=True)\n",
    "\n",
    "for i, ax in enumerate(axes.flatten()):    \n",
    "    df_dominant_topic_sub = df_dominant_topic.loc[df_dominant_topic.Dominant_Topic == i, :]\n",
    "    doc_lens = [len(d) for d in df_dominant_topic_sub.Text]\n",
    "    ax.hist(doc_lens, bins = 60, color=cols[i])\n",
    "    ax.tick_params(axis='y', labelcolor=cols[i], color=cols[i])\n",
    "    sns.kdeplot(doc_lens, color=\"black\", shade=False, ax=ax.twinx())\n",
    "    ax.set(xlim=(0, 60), xlabel='Document Word Count')\n",
    "    ax.set_ylabel('Number of Documents', color=cols[i])\n",
    "    ax.set_title('Topic: '+str(i), fontdict=dict(size=16, color=cols[i]))\n",
    "\n",
    "fig.tight_layout()\n",
    "fig.subplots_adjust(top=0.90)\n",
    "plt.xticks(np.linspace(0,60,9))\n",
    "fig.suptitle('Distribution of Document Word Counts by Dominant Topic', fontsize=22)\n",
    "plt.show()"
   ]
  },
  {
   "cell_type": "code",
   "execution_count": 62,
   "metadata": {
    "scrolled": true
   },
   "outputs": [
    {
     "ename": "ValueError",
     "evalue": "dictionary update sequence element #0 has length 1; 2 is required",
     "output_type": "error",
     "traceback": [
      "\u001b[0;31m---------------------------------------------------------------------------\u001b[0m",
      "\u001b[0;31mValueError\u001b[0m                                Traceback (most recent call last)",
      "\u001b[0;32m<ipython-input-62-85ec2b822729>\u001b[0m in \u001b[0;36m<module>\u001b[0;34m\u001b[0m\n\u001b[1;32m     15\u001b[0m \u001b[0;32mfor\u001b[0m \u001b[0mi\u001b[0m\u001b[0;34m,\u001b[0m \u001b[0max\u001b[0m \u001b[0;32min\u001b[0m \u001b[0menumerate\u001b[0m\u001b[0;34m(\u001b[0m\u001b[0maxes\u001b[0m\u001b[0;34m.\u001b[0m\u001b[0mflatten\u001b[0m\u001b[0;34m(\u001b[0m\u001b[0;34m)\u001b[0m\u001b[0;34m)\u001b[0m\u001b[0;34m:\u001b[0m\u001b[0;34m\u001b[0m\u001b[0;34m\u001b[0m\u001b[0m\n\u001b[1;32m     16\u001b[0m     \u001b[0mfig\u001b[0m\u001b[0;34m.\u001b[0m\u001b[0madd_subplot\u001b[0m\u001b[0;34m(\u001b[0m\u001b[0max\u001b[0m\u001b[0;34m)\u001b[0m\u001b[0;34m\u001b[0m\u001b[0;34m\u001b[0m\u001b[0m\n\u001b[0;32m---> 17\u001b[0;31m     \u001b[0mtopic_words\u001b[0m \u001b[0;34m=\u001b[0m \u001b[0mdict\u001b[0m\u001b[0;34m(\u001b[0m\u001b[0mtopics\u001b[0m\u001b[0;34m[\u001b[0m\u001b[0mi\u001b[0m\u001b[0;34m]\u001b[0m\u001b[0;34m[\u001b[0m\u001b[0;36m1\u001b[0m\u001b[0;34m]\u001b[0m\u001b[0;34m)\u001b[0m\u001b[0;34m\u001b[0m\u001b[0;34m\u001b[0m\u001b[0m\n\u001b[0m\u001b[1;32m     18\u001b[0m     \u001b[0mcloud\u001b[0m\u001b[0;34m.\u001b[0m\u001b[0mgenerate_from_frequencies\u001b[0m\u001b[0;34m(\u001b[0m\u001b[0mtopic_words\u001b[0m\u001b[0;34m,\u001b[0m \u001b[0mmax_font_size\u001b[0m\u001b[0;34m=\u001b[0m\u001b[0;36m300\u001b[0m\u001b[0;34m)\u001b[0m\u001b[0;34m\u001b[0m\u001b[0;34m\u001b[0m\u001b[0m\n\u001b[1;32m     19\u001b[0m     \u001b[0mplt\u001b[0m\u001b[0;34m.\u001b[0m\u001b[0mgca\u001b[0m\u001b[0;34m(\u001b[0m\u001b[0;34m)\u001b[0m\u001b[0;34m.\u001b[0m\u001b[0mimshow\u001b[0m\u001b[0;34m(\u001b[0m\u001b[0mcloud\u001b[0m\u001b[0;34m)\u001b[0m\u001b[0;34m\u001b[0m\u001b[0;34m\u001b[0m\u001b[0m\n",
      "\u001b[0;31mValueError\u001b[0m: dictionary update sequence element #0 has length 1; 2 is required"
     ]
    },
    {
     "data": {
      "image/png": "[encoded data removed]",
      "text/plain": [
       "<Figure size 1152x1080 with 10 Axes>"
      ]
     },
     "metadata": {
      "needs_background": "light"
     },
     "output_type": "display_data"
    }
   ],
   "source": [
    "# 1. Wordcloud of Top N words in each topic\n",
    "from wordcloud import WordCloud\n",
    "\n",
    "cloud = WordCloud(stopwords=stop_words,\n",
    "                  background_color='white',\n",
    "                  width=2500,\n",
    "                  height=1800,\n",
    "                  max_words=100,\n",
    "                  colormap='tab20',\n",
    "                  color_func=lambda *args, **kwargs: cols[i],\n",
    "                  prefer_horizontal=1.0)\n",
    "\n",
    "fig, axes = plt.subplots(2, 5, figsize=(16,15), sharex=True, sharey=True)\n",
    "\n",
    "for i, ax in enumerate(axes.flatten()):\n",
    "    fig.add_subplot(ax)\n",
    "    topic_words = dict(topics[i][1])\n",
    "    cloud.generate_from_frequencies(topic_words, max_font_size=300)\n",
    "    plt.gca().imshow(cloud)\n",
    "    plt.gca().set_title('Topic ' + str(i), fontdict=dict(size=16))\n",
    "    plt.gca().axis('off')\n",
    "\n",
    "\n",
    "plt.subplots_adjust(wspace=0, hspace=0)\n",
    "plt.axis('off')\n",
    "plt.margins(x=0, y=0)\n",
    "plt.tight_layout()\n",
    "plt.show()"
   ]
  },
  {
   "cell_type": "code",
   "execution_count": null,
   "metadata": {},
   "outputs": [],
   "source": [
    "from collections import Counter\n",
    "topics = lda_model.show_topics(formatted=False)\n",
    "data_flat = [w for w_list in word_tokenized_corpus for w in w_list]\n",
    "counter = Counter(data_flat)\n",
    "\n",
    "out = []\n",
    "for i, topic in topics:\n",
    "    for word, weight in topic:\n",
    "        out.append([word, i , weight, counter[word]])\n",
    "\n",
    "df = pd.DataFrame(out, columns=['word', 'topic_id', 'importance', 'word_count'])        \n",
    "\n",
    "# Plot Word Count and Weights of Topic Keywords\n",
    "fig, axes = plt.subplots(2, 2, figsize=(16,10), sharey=True)\n",
    "for i, ax in enumerate(axes.flatten()):\n",
    "    ax.bar(x='word', height=\"word_count\", data=df.loc[df.topic_id==i, :], color=cols[i], width=0.5, alpha=0.3, label='Word Count')\n",
    "    ax_twin = ax.twinx()\n",
    "    ax_twin.bar(x='word', height=\"importance\", data=df.loc[df.topic_id==i, :], color=cols[i], width=0.2, label='Weights')\n",
    "    ax.set_ylabel('Word Count', color=cols[i])\n",
    "    ax_twin.set_ylim(0, 0.030); ax.set_ylim(0, 500)\n",
    "    ax.set_title('Topic: ' + str(i), color=cols[i], fontsize=16)\n",
    "    ax.tick_params(axis='y', left=False)\n",
    "    ax.set_xticklabels(df.loc[df.topic_id==i, 'word'], rotation=30, horizontalalignment= 'right')\n",
    "    ax.legend(loc='upper left'); ax_twin.legend(loc='upper right')\n",
    "\n",
    "fig.tight_layout(w_pad=2)    \n",
    "fig.suptitle('Word Count and Importance of Topic Keywords', fontsize=22, y=1.05)    \n",
    "plt.show()"
   ]
  },
  {
   "cell_type": "markdown",
   "metadata": {},
   "source": [
    "### t-SNE Clustering Chart"
   ]
  },
  {
   "cell_type": "code",
   "execution_count": null,
   "metadata": {},
   "outputs": [],
   "source": [
    "# Get topic weights and dominant topics ------------\n",
    "from sklearn.manifold import TSNE\n",
    "from bokeh.plotting import figure, output_file, show\n",
    "from bokeh.models import Label\n",
    "from bokeh.io import output_notebook\n",
    "import matplotlib.colors as mcolors\n",
    "# Get topic weights\n",
    "topic_weights = []\n",
    "for i, row_list in enumerate(lda_model[corpus]):\n",
    "    topic_weights.append([w for i, w in row_list[0]])\n",
    "\n",
    "# Array of topic weights    \n",
    "arr = pd.DataFrame(topic_weights).fillna(0).values\n",
    "\n",
    "# Keep the well separated points (optional)\n",
    "arr = arr[np.amax(arr, axis=1) > 0.35]\n",
    "\n",
    "# Dominant topic number in each doc\n",
    "topic_num = np.argmax(arr, axis=1)\n",
    "\n",
    "# tSNE Dimension Reduction\n",
    "tsne_model = TSNE(n_components=2, verbose=1, random_state=0, angle=.99, init='pca')\n",
    "tsne_lda = tsne_model.fit_transform(arr)"
   ]
  },
  {
   "cell_type": "code",
   "execution_count": null,
   "metadata": {},
   "outputs": [],
   "source": [
    "# Plot the Topic Clusters using Bokeh\n",
    "output_notebook()\n",
    "n_topics = 4\n",
    "mycolors = np.array([color for name, color in mcolors.TABLEAU_COLORS.items()])\n",
    "plot = figure(title=\"t-SNE Clustering of {} LDA Topics\".format(n_topics), \n",
    "              plot_width=900, plot_height=700)\n",
    "plot.scatter(x=tsne_lda[:,0], y=tsne_lda[:,1], color=mycolors[topic_num])\n",
    "show(plot)"
   ]
  },
  {
   "cell_type": "code",
   "execution_count": null,
   "metadata": {},
   "outputs": [],
   "source": [
    "import pyLDAvis.gensim\n",
    "pyLDAvis.enable_notebook()\n",
    "vis = pyLDAvis.gensim.prepare(lda_model, corpus, dictionary=lda_model.id2word)\n",
    "vis"
   ]
  },
  {
   "cell_type": "markdown",
   "metadata": {},
   "source": [
    "# Fast text attempt"
   ]
  },
  {
   "cell_type": "markdown",
   "metadata": {},
   "source": [
    "Source: https://stackabuse.com/python-for-nlp-working-with-facebook-fasttext-library/"
   ]
  },
  {
   "cell_type": "code",
   "execution_count": null,
   "metadata": {},
   "outputs": [],
   "source": [
    "def top_n_words(word, n_words):\n",
    "    return [item[0] for item in ft_model.wv.most_similar([word], topn=n_words)]"
   ]
  },
  {
   "cell_type": "code",
   "execution_count": null,
   "metadata": {
    "scrolled": true
   },
   "outputs": [],
   "source": [
    "# Variables\n",
    "embedding_size = 60\n",
    "window_size = 40\n",
    "min_word = 5\n",
    "down_sampling = 1e-2\n",
    "%%time\n",
    "ft_model = FastText(word_tokenized_corpus,\n",
    "                      size=embedding_size,\n",
    "                      window=window_size,\n",
    "                      min_count=min_word,\n",
    "                      sample=down_sampling,\n",
    "                      sg=1,\n",
    "                      iter=100)"
   ]
  },
  {
   "cell_type": "markdown",
   "metadata": {},
   "source": [
    "# Elbow method may find a better viz"
   ]
  },
  {
   "cell_type": "code",
   "execution_count": null,
   "metadata": {
    "scrolled": true
   },
   "outputs": [],
   "source": [
    "X =  ft_model.wv.vectors_vocab\n",
    "max_cluster = 25\n",
    "distortions = []\n",
    "for i in range(1, max_cluster):\n",
    "    km = KMeans(\n",
    "        n_clusters=i, init='random',\n",
    "        n_init=10, max_iter=300,\n",
    "        tol=1e-04, random_state=0\n",
    "    )\n",
    "    km.fit(X)\n",
    "    distortions.append(km.inertia_)\n",
    "\n",
    "# plot\n",
    "plt.plot(range(1, max_cluster), distortions, marker='o')\n",
    "plt.vlines(range(1, max_cluster), min(distortions), distortions, linestyle=\"dashed\", color='grey')\n",
    "plt.xticks(range(0, max_cluster+1))\n",
    "plt.xlabel('Number of clusters')\n",
    "plt.ylabel('Distortion')\n",
    "plt.show()"
   ]
  },
  {
   "cell_type": "code",
   "execution_count": null,
   "metadata": {},
   "outputs": [],
   "source": [
    "from nltk.cluster import KMeansClusterer\n",
    "import nltk\n",
    "NUM_CLUSTERS=10\n",
    "kclusterer = KMeansClusterer(NUM_CLUSTERS, distance=nltk.cluster.util.cosine_distance, repeats=25)\n",
    "assigned_clusters = kclusterer.cluster(X, assign_clusters=True)"
   ]
  },
  {
   "cell_type": "code",
   "execution_count": null,
   "metadata": {
    "scrolled": true
   },
   "outputs": [],
   "source": [
    "from sklearn.cluster import KMeans \n",
    "\n",
    "from sklearn import cluster\n",
    "from sklearn import metrics\n",
    "kmeans = cluster.KMeans(n_clusters=NUM_CLUSTERS)\n",
    "kmeans.fit(X)\n",
    " \n",
    "labels = kmeans.labels_\n",
    "centroids = kmeans.cluster_centers_\n",
    " \n",
    "print (\"Cluster id labels for inputted data\")\n",
    "#print (labels)\n",
    "print(len(labels))\n",
    "print (\"Centroids data\")\n",
    "#print (centroids)\n",
    "print(len(centroids))"
   ]
  }
 ],
 "metadata": {
  "kernelspec": {
   "display_name": "Python 3",
   "language": "python",
   "name": "python3"
  },
  "language_info": {
   "codemirror_mode": {
    "name": "ipython",
    "version": 3
   },
   "file_extension": ".py",
   "mimetype": "text/x-python",
   "name": "python",
   "nbconvert_exporter": "python",
   "pygments_lexer": "ipython3",
   "version": "3.8.2"
  }
 },
 "nbformat": 4,
 "nbformat_minor": 4
}
