{
 "cells": [
  {
   "cell_type": "code",
   "execution_count": 1,
   "metadata": {},
   "outputs": [],
   "source": [
    "import os\n",
    "from tqdm.auto import tqdm"
   ]
  },
  {
   "cell_type": "markdown",
   "metadata": {},
   "source": [
    "## Source\n",
    "1. https://link.springer.com/chapter/10.1007/978-3-030-14799-0_11\n",
    "1. https://colab.research.google.com/drive/1ZQvuAVwA3IjybezQOXnrXMGAnMyZRuPU#scrollTo=dYapTjoYa0kO"
   ]
  },
  {
   "cell_type": "code",
   "execution_count": null,
   "metadata": {},
   "outputs": [],
   "source": [
    "# Bert \n",
    "import torch\n",
    "from torch.nn import CrossEntropyLoss\n",
    "from torch.utils.data import DataLoader\n",
    "from torch.utils.data import RandomSampler\n",
    "from transformers import AdamW, get_linear_schedule_with_warmup\n",
    "from transformers import BertConfig, BertForSequenceClassification, BertTokenizer, BertModel"
   ]
  },
  {
   "cell_type": "code",
   "execution_count": null,
   "metadata": {},
   "outputs": [],
   "source": [
    "for i in df['clean_txt'].head(10):\n",
    "    text = i\n",
    "    marked_text = \"[CLS] \" + text + \" [SEP]\"\n",
    "    tokenized_text = tokenizer.tokenize(marked_text)\n",
    "    indexed_tokens = tokenizer.convert_tokens_to_ids(tokenized_text)\n",
    "    segments_ids = [1] * len(tokenized_text)\n",
    "    tokens_tensor = torch.tensor([indexed_tokens])\n",
    "    segments_tensors = torch.tensor([segments_ids])"
   ]
  },
  {
   "cell_type": "code",
   "execution_count": null,
   "metadata": {},
   "outputs": [],
   "source": [
    "# Predict hidden states features for each layer\n",
    "with torch.no_grad():\n",
    "    encoded_layers, _ = model(tokens_tensor, segments_tensors)\n",
    "    print(encoded_layers)"
   ]
  },
  {
   "cell_type": "code",
   "execution_count": null,
   "metadata": {},
   "outputs": [],
   "source": [
    "print('Tensor shape for each layer: ', encoded_layers[0].size())"
   ]
  },
  {
   "cell_type": "code",
   "execution_count": null,
   "metadata": {},
   "outputs": [],
   "source": [
    "# Load pre-trained model (weights)\n",
    "model = BertModel.from_pretrained(PRETRAINED_MODEL)\n",
    "\n",
    "# Put the model in \"evaluation\" mode, meaning feed-forward operation.\n",
    "model.eval()"
   ]
  },
  {
   "cell_type": "code",
   "execution_count": null,
   "metadata": {},
   "outputs": [],
   "source": [
    "# Load pre-trained model tokenizer (vocabulary)\n",
    "tokenizer = BertTokenizer.from_pretrained(PRETRAINED_MODEL)"
   ]
  },
  {
   "cell_type": "code",
   "execution_count": null,
   "metadata": {},
   "outputs": [],
   "source": [
    "# Global variables\n",
    "#PAD_TOKEN_LABEL_ID = CrossEntropyLoss().ignore_index  #FIXME Not used anywhere\n",
    "PRETRAINED_MODEL = 'bert-base-multilingual-uncased'\n",
    "BATCH_SIZE = 2\n",
    "LEARNING_RATE_MODEL = 1e-5\n",
    "LEARNING_RATE_CLASSIFIER = 1e-3\n",
    "WARMUP_STEPS = 0\n",
    "GRADIENT_ACCUMULATION_STEPS = 1\n",
    "MAX_GRAD_NORM = 1.0\n",
    "SEED = 42\n",
    "NO_CUDA = False\n",
    "MAX_SENTENCE_LENGTH = 128\n",
    "#NUM_LABELS = len(df_train.y.unique())\n",
    "EPOCHS = 2\n",
    "#MODEL_DIR = \"./model/{}-batch-{}-epoch-{}/\".format(PRETRAINED_MODEL, BATCH_SIZE, EPOCHS)\n",
    "#try: os.mkdir(MODEL_DIR) \n",
    "#except FileExistsError: pass"
   ]
  },
  {
   "cell_type": "code",
   "execution_count": null,
   "metadata": {},
   "outputs": [],
   "source": [
    "class Transformers:\n",
    "    model = None\n",
    "\n",
    "    def __init__(self, tokenizer):\n",
    "        self.device = torch.device(\"cuda\" if torch.cuda.is_available() and not NO_CUDA else \"cpu\")\n",
    "        self.tokenizer = tokenizer\n",
    "\n",
    "    def predict(self, sentence):\n",
    "        if self.model is None or self.tokenizer is None:\n",
    "            self.load()\n",
    "\n",
    "        embeddings = list(convert_to_embedding([(sentence, -1)]))\n",
    "        preds = self._predict_tags_batched(embeddings)\n",
    "        return preds\n",
    "\n",
    "    def evaluate(self, dataloader, y_true):\n",
    "        from sklearn.metrics import classification_report\n",
    "        y_pred = self._predict_tags_batched(dataloader)\n",
    "        score = classification_report(y_true, y_pred)\n",
    "        print(score)\n",
    "\n",
    "    def _predict_tags_batched(self, dataloader):\n",
    "        preds = []\n",
    "        self.model.eval()\n",
    "        # Predict\n",
    "        for batch in tqdm(dataloader, desc=\"Computing NER tags\"):\n",
    "            batch = tuple(t.to(self.device) for t in batch)\n",
    "          # Telling the model not to compute or store gradients, saving memory and \n",
    "          # speeding up prediction\n",
    "            with torch.no_grad():\n",
    "                outputs = self.model(batch[0])\n",
    "                _, is_neg = torch.max(outputs[0], 1)\n",
    "                preds.extend(is_neg.cpu().detach().numpy())\n",
    "\n",
    "        return preds\n",
    "\n",
    "    def train(self, dataloader, model, epochs):\n",
    "        assert self.model is None  # make sure we are not training after load() command\n",
    "        model.to(self.device)\n",
    "        self.model = model\n",
    "\n",
    "        t_total = len(dataloader) // GRADIENT_ACCUMULATION_STEPS * epochs\n",
    "\n",
    "        # Prepare optimizer and schedule (linear warmup and decay)\n",
    "        optimizer_grouped_parameters = [\n",
    "            {\"params\": model.bert.parameters(), \"lr\": LEARNING_RATE_MODEL},\n",
    "            {\"params\": model.classifier.parameters(), \"lr\": LEARNING_RATE_CLASSIFIER}\n",
    "        ]\n",
    "        optimizer = AdamW(optimizer_grouped_parameters)\n",
    "        scheduler = get_linear_schedule_with_warmup(\n",
    "            optimizer, num_warmup_steps=WARMUP_STEPS, num_training_steps=t_total)\n",
    "\n",
    "        # Train!\n",
    "        print(\"***** Running training *****\")\n",
    "        print(\"Using: {}\".format(self.device))\n",
    "        print(\"Training on %d examples\", len(dataloader))\n",
    "        print(\"Num Epochs = %d\", epochs)\n",
    "        print(\"Total optimization steps = %d\", t_total)\n",
    "\n",
    "        global_step = 0\n",
    "        tr_loss, logging_loss = 0.0, 0.0\n",
    "        model.zero_grad()\n",
    "        train_iterator = trange(epochs, desc=\"Epoch\")\n",
    "        self._set_seed()\n",
    "        for _ in train_iterator:\n",
    "            epoch_iterator = tqdm(dataloader, desc=\"Iteration\")\n",
    "            for step, batch in enumerate(epoch_iterator):\n",
    "                model.train()\n",
    "                batch = tuple(t.to(self.device) for t in batch)\n",
    "                outputs = model(batch[0], labels=batch[1])\n",
    "                loss = outputs[0]  # model outputs are always tuple in pytorch-transformers (see doc)\n",
    "\n",
    "                if GRADIENT_ACCUMULATION_STEPS > 1:\n",
    "                    loss = loss / GRADIENT_ACCUMULATION_STEPS\n",
    "\n",
    "                loss.backward()\n",
    "\n",
    "                tr_loss += loss.item()\n",
    "                if (step + 1) % GRADIENT_ACCUMULATION_STEPS == 0:\n",
    "                    torch.nn.utils.clip_grad_norm_(model.parameters(), MAX_GRAD_NORM)\n",
    "\n",
    "                    optimizer.step()\n",
    "                    scheduler.step()  # Update learning rate schedule\n",
    "\n",
    "                    model.zero_grad()\n",
    "                    global_step += 1\n",
    "\n",
    "        self.model = model\n",
    "\n",
    "        return global_step, tr_loss / global_step\n",
    "\n",
    "    def _set_seed(self):\n",
    "        torch.manual_seed(SEED)\n",
    "        if self.device == 'gpu':\n",
    "            torch.cuda.manual_seed_all(SEED)\n",
    "\n",
    "    def load(self, model_dir='weights/'):\n",
    "        self.tokenizer = BertTokenizer.from_pretrained(model_dir)\n",
    "        self.model = BertForSequenceClassification.from_pretrained(model_dir)\n",
    "        self.model.to(self.device)"
   ]
  },
  {
   "cell_type": "code",
   "execution_count": null,
   "metadata": {},
   "outputs": [],
   "source": [
    "dataloader_test = torch.load('./model/dataLoaders/dataTest')\n",
    "dataloader_train = torch.load('./model/dataLoaders/dataTrain')"
   ]
  },
  {
   "cell_type": "code",
   "execution_count": null,
   "metadata": {},
   "outputs": [],
   "source": [
    "config = BertConfig.from_pretrained(PRETRAINED_MODEL, \n",
    "                                    num_labels=NUM_LABELS)\n",
    "tokenizer = BertTokenizer.from_pretrained(PRETRAINED_MODEL, \n",
    "                                          do_lower_case=True)\n",
    "model = BertForSequenceClassification.from_pretrained(PRETRAINED_MODEL, \n",
    "                                                      config=config)"
   ]
  },
  {
   "cell_type": "code",
   "execution_count": null,
   "metadata": {},
   "outputs": [],
   "source": [
    "params = list(model.named_parameters())\n",
    "\n",
    "print('The BERT model has {:} different named parameters.\\n'.format(len(params)))\n",
    "\n",
    "print('==== Embedding Layer ====\\n')\n",
    "\n",
    "for p in params[0:5]:\n",
    "    print(\"{:<55} {:>12}\".format(p[0], str(tuple(p[1].size()))))\n",
    "\n",
    "print('\\n==== First Transformer ====\\n')\n",
    "\n",
    "for p in params[5:21]:\n",
    "    print(\"{:<55} {:>12}\".format(p[0], str(tuple(p[1].size()))))\n",
    "\n",
    "print('\\n==== Output Layer ====\\n')\n",
    "\n",
    "for p in params[-4:]:\n",
    "    print(\"{:<55} {:>12}\".format(p[0], str(tuple(p[1].size()))))"
   ]
  },
  {
   "cell_type": "code",
   "execution_count": null,
   "metadata": {},
   "outputs": [],
   "source": [
    "evaluate(MODEL_DIR, y_true=df_test_test.y.values)"
   ]
  },
  {
   "cell_type": "code",
   "execution_count": null,
   "metadata": {},
   "outputs": [],
   "source": [
    "predictor = Transformers(tokenizer)\n",
    "#predictor.load(MODEL_DIR)\n",
    "predictor.train(dataloader, model, epochs=EPOCHS)"
   ]
  },
  {
   "cell_type": "code",
   "execution_count": null,
   "metadata": {},
   "outputs": [],
   "source": [
    "def evaluate(model_dir, y_true):\n",
    "    tokenizer = BertTokenizer.from_pretrained(PRETRAINED_MODEL, do_lower_case=True)\n",
    "    predictor = Transformers(tokenizer)\n",
    "    predictor.load(model_dir=model_dir)\n",
    "    predictor.evaluate(data_loader_test, y_true)"
   ]
  }
 ],
 "metadata": {
  "kernelspec": {
   "display_name": "Python 3",
   "language": "python",
   "name": "python3"
  },
  "language_info": {
   "codemirror_mode": {
    "name": "ipython",
    "version": 3
   },
   "file_extension": ".py",
   "mimetype": "text/x-python",
   "name": "python",
   "nbconvert_exporter": "python",
   "pygments_lexer": "ipython3",
   "version": "3.8.3"
  }
 },
 "nbformat": 4,
 "nbformat_minor": 4
}
